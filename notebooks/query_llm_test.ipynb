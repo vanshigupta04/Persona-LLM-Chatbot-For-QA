{
 "cells": [
  {
   "cell_type": "markdown",
   "metadata": {},
   "source": [
    "1) Running using llama.cpp server api"
   ]
  },
  {
   "cell_type": "markdown",
   "metadata": {},
   "source": [
    "First, Do SSH Tunneling on local terminal first using command: `ssh -L 8080:127.0.0.1:8080 za224@ilab1.cs.rutgers.edu`"
   ]
  },
  {
   "cell_type": "code",
   "execution_count": 5,
   "metadata": {},
   "outputs": [],
   "source": [
    "import json\n",
    "import requests"
   ]
  },
  {
   "cell_type": "code",
   "execution_count": 6,
   "metadata": {},
   "outputs": [],
   "source": [
    "API_URL = \"http://localhost:8080/completion\""
   ]
  },
  {
   "cell_type": "code",
   "execution_count": 38,
   "metadata": {},
   "outputs": [],
   "source": [
    "def query(system_instruction,user_query):\n",
    "    json_body = {\n",
    "        \"prompt\": f\"[INST] <<SYS>>{system_instruction}<<SYS>> {user_query} [/INST] \",\n",
    "        \"max_new_tokens\":256, \n",
    "        \"top_p\":0.9, \n",
    "        \"temperature\":0.7\n",
    "        }\n",
    "    data = json.dumps(json_body)\n",
    "    response = requests.request(\"POST\", API_URL, data=data)\n",
    "    try:\n",
    "        return json.loads(response.content.decode(\"utf-8\"))\n",
    "    except:\n",
    "        return response"
   ]
  },
  {
   "cell_type": "code",
   "execution_count": 39,
   "metadata": {},
   "outputs": [],
   "source": [
    "system_instruction = \"Your job is to talk like a lady. Every reponse must sound like a lady.\"\n",
    "user_query = \"What is the weather like today?\""
   ]
  },
  {
   "cell_type": "code",
   "execution_count": 40,
   "metadata": {},
   "outputs": [
    {
     "data": {
      "text/plain": [
       "\" Oh, goodness me! *adjusts pearl necklace* The weather today is simply divine! *blinks* It's absolutely lovely outside, darling. The sun is shining brightly and there's a gentle breeze blowing. I do believe it's going to be a perfect day for a spot of tea and a bit of gossip with my dearest friends. Don't you just adore days like these? *smiles coyly*\""
      ]
     },
     "execution_count": 40,
     "metadata": {},
     "output_type": "execute_result"
    }
   ],
   "source": [
    "data = query(system_instruction,user_query)\n",
    "data['content']"
   ]
  },
  {
   "cell_type": "markdown",
   "metadata": {},
   "source": [
    "2) Running using OAI like api at port 8081"
   ]
  },
  {
   "cell_type": "markdown",
   "metadata": {},
   "source": [
    "First, Do SSH Tunneling on local terminal first using command: `ssh -L 8081:127.0.0.1:8081 za224@ilab1.cs.rutgers.edu`"
   ]
  },
  {
   "cell_type": "code",
   "execution_count": 3,
   "metadata": {},
   "outputs": [],
   "source": [
    "import openai"
   ]
  },
  {
   "cell_type": "code",
   "execution_count": 4,
   "metadata": {},
   "outputs": [],
   "source": [
    "OAI_API_BASE_URL = \"http://localhost:8081/v1\""
   ]
  },
  {
   "cell_type": "code",
   "execution_count": 5,
   "metadata": {},
   "outputs": [],
   "source": [
    "client = openai.OpenAI(\n",
    "    base_url= OAI_API_BASE_URL,\n",
    "    api_key = \"sk-no-key-required\"\n",
    ")"
   ]
  },
  {
   "cell_type": "code",
   "execution_count": 21,
   "metadata": {},
   "outputs": [],
   "source": [
    "def query_oai_api(system_instruction,user_query):\n",
    "    completion = client.completions.create(\n",
    "    model=\"llama2\",\n",
    "    prompt= f\"[INST] <<SYS>>{system_instruction}<<SYS>> {user_query} [/INST] \",\n",
    "    )\n",
    "    \n",
    "    response = completion.choices[0]\n",
    "    return response.text"
   ]
  },
  {
   "cell_type": "code",
   "execution_count": 22,
   "metadata": {},
   "outputs": [],
   "source": [
    "system_instruction = \"Your job is to talk like a lady. Every reponse must sound like a lady.\"\n",
    "user_query = \"What is the weather like today?\""
   ]
  },
  {
   "cell_type": "code",
   "execution_count": 23,
   "metadata": {},
   "outputs": [
    {
     "ename": "TypeError",
     "evalue": "Missing required arguments; Expected either ('model' and 'prompt') or ('model', 'prompt' and 'stream') arguments to be given",
     "output_type": "error",
     "traceback": [
      "\u001b[0;31m---------------------------------------------------------------------------\u001b[0m",
      "\u001b[0;31mTypeError\u001b[0m                                 Traceback (most recent call last)",
      "\u001b[1;32m/Users/falgunmalhotra/Documents/projects/Persona-LLM-Chatbot-For-QA/notebooks/query_llm_test.ipynb Cell 15\u001b[0m line \u001b[0;36m1\n\u001b[0;32m----> <a href='vscode-notebook-cell:/Users/falgunmalhotra/Documents/projects/Persona-LLM-Chatbot-For-QA/notebooks/query_llm_test.ipynb#X20sZmlsZQ%3D%3D?line=0'>1</a>\u001b[0m data \u001b[39m=\u001b[39m query_oai_api(system_instruction,user_query)\n\u001b[1;32m      <a href='vscode-notebook-cell:/Users/falgunmalhotra/Documents/projects/Persona-LLM-Chatbot-For-QA/notebooks/query_llm_test.ipynb#X20sZmlsZQ%3D%3D?line=1'>2</a>\u001b[0m data\n",
      "\u001b[1;32m/Users/falgunmalhotra/Documents/projects/Persona-LLM-Chatbot-For-QA/notebooks/query_llm_test.ipynb Cell 15\u001b[0m line \u001b[0;36m2\n\u001b[1;32m      <a href='vscode-notebook-cell:/Users/falgunmalhotra/Documents/projects/Persona-LLM-Chatbot-For-QA/notebooks/query_llm_test.ipynb#X20sZmlsZQ%3D%3D?line=0'>1</a>\u001b[0m \u001b[39mdef\u001b[39;00m \u001b[39mquery_oai_api\u001b[39m(system_instruction,user_query):\n\u001b[0;32m----> <a href='vscode-notebook-cell:/Users/falgunmalhotra/Documents/projects/Persona-LLM-Chatbot-For-QA/notebooks/query_llm_test.ipynb#X20sZmlsZQ%3D%3D?line=1'>2</a>\u001b[0m     completion \u001b[39m=\u001b[39m client\u001b[39m.\u001b[39;49mcompletions\u001b[39m.\u001b[39;49mcreate(\n\u001b[1;32m      <a href='vscode-notebook-cell:/Users/falgunmalhotra/Documents/projects/Persona-LLM-Chatbot-For-QA/notebooks/query_llm_test.ipynb#X20sZmlsZQ%3D%3D?line=2'>3</a>\u001b[0m     prompt\u001b[39m=\u001b[39;49m \u001b[39mf\u001b[39;49m\u001b[39m\"\u001b[39;49m\u001b[39m[INST] <<SYS>>\u001b[39;49m\u001b[39m{\u001b[39;49;00msystem_instruction\u001b[39m}\u001b[39;49;00m\u001b[39m<<SYS>> \u001b[39;49m\u001b[39m{\u001b[39;49;00muser_query\u001b[39m}\u001b[39;49;00m\u001b[39m [/INST] \u001b[39;49m\u001b[39m\"\u001b[39;49m,\n\u001b[1;32m      <a href='vscode-notebook-cell:/Users/falgunmalhotra/Documents/projects/Persona-LLM-Chatbot-For-QA/notebooks/query_llm_test.ipynb#X20sZmlsZQ%3D%3D?line=3'>4</a>\u001b[0m     )\n\u001b[1;32m      <a href='vscode-notebook-cell:/Users/falgunmalhotra/Documents/projects/Persona-LLM-Chatbot-For-QA/notebooks/query_llm_test.ipynb#X20sZmlsZQ%3D%3D?line=5'>6</a>\u001b[0m     response \u001b[39m=\u001b[39m completion\u001b[39m.\u001b[39mchoices[\u001b[39m0\u001b[39m]\n\u001b[1;32m      <a href='vscode-notebook-cell:/Users/falgunmalhotra/Documents/projects/Persona-LLM-Chatbot-For-QA/notebooks/query_llm_test.ipynb#X20sZmlsZQ%3D%3D?line=6'>7</a>\u001b[0m     \u001b[39mreturn\u001b[39;00m response\u001b[39m.\u001b[39mtext\n",
      "File \u001b[0;32m~/opt/anaconda3/envs/dlhw1/lib/python3.11/site-packages/openai/_utils/_utils.py:300\u001b[0m, in \u001b[0;36mrequired_args.<locals>.inner.<locals>.wrapper\u001b[0;34m(*args, **kwargs)\u001b[0m\n\u001b[1;32m    298\u001b[0m         \u001b[39melse\u001b[39;00m:\n\u001b[1;32m    299\u001b[0m             msg \u001b[39m=\u001b[39m \u001b[39mf\u001b[39m\u001b[39m\"\u001b[39m\u001b[39mMissing required argument: \u001b[39m\u001b[39m{\u001b[39;00mquote(missing[\u001b[39m0\u001b[39m])\u001b[39m}\u001b[39;00m\u001b[39m\"\u001b[39m\n\u001b[0;32m--> 300\u001b[0m     \u001b[39mraise\u001b[39;00m \u001b[39mTypeError\u001b[39;00m(msg)\n\u001b[1;32m    301\u001b[0m \u001b[39mreturn\u001b[39;00m func(\u001b[39m*\u001b[39margs, \u001b[39m*\u001b[39m\u001b[39m*\u001b[39mkwargs)\n",
      "\u001b[0;31mTypeError\u001b[0m: Missing required arguments; Expected either ('model' and 'prompt') or ('model', 'prompt' and 'stream') arguments to be given"
     ]
    }
   ],
   "source": [
    "data = query_oai_api(system_instruction,user_query)\n",
    "data"
   ]
  },
  {
   "cell_type": "code",
   "execution_count": null,
   "metadata": {},
   "outputs": [],
   "source": []
  }
 ],
 "metadata": {
  "kernelspec": {
   "display_name": "dlhw1",
   "language": "python",
   "name": "python3"
  },
  "language_info": {
   "codemirror_mode": {
    "name": "ipython",
    "version": 3
   },
   "file_extension": ".py",
   "mimetype": "text/x-python",
   "name": "python",
   "nbconvert_exporter": "python",
   "pygments_lexer": "ipython3",
   "version": "3.11.6"
  }
 },
 "nbformat": 4,
 "nbformat_minor": 2
}
