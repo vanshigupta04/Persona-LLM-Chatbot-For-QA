{
 "cells": [
  {
   "cell_type": "markdown",
   "metadata": {},
   "source": [
    "To Run locally, Do SSH Tunneling on local terminal first using command: `ssh -L 8080:127.0.0.1:8080 za224@ilab1.cs.rutgers.edu`"
   ]
  },
  {
   "cell_type": "code",
   "execution_count": 10,
   "metadata": {},
   "outputs": [],
   "source": [
    "import json\n",
    "import requests"
   ]
  },
  {
   "cell_type": "code",
   "execution_count": 11,
   "metadata": {},
   "outputs": [],
   "source": [
    "API_URL = \"http://localhost:8080/completion\""
   ]
  },
  {
   "cell_type": "code",
   "execution_count": 12,
   "metadata": {},
   "outputs": [],
   "source": [
    "def query(system_instruction,user_query):\n",
    "    json_body = {\n",
    "        \"prompt\": f\"[INST] <<SYS>>{system_instruction}<<SYS>> {user_query} [/INST] \",\n",
    "        \"max_new_tokens\":256, \n",
    "        \"top_p\":0.9, \n",
    "        \"temperature\":0.7\n",
    "        }\n",
    "    data = json.dumps(json_body)\n",
    "    response = requests.request(\"POST\", API_URL, data=data)\n",
    "    try:\n",
    "        return json.loads(response.content.decode(\"utf-8\"))\n",
    "    except:\n",
    "        return response"
   ]
  },
  {
   "cell_type": "code",
   "execution_count": 4,
   "metadata": {},
   "outputs": [],
   "source": [
    "system_instruction = \"Your job is to talk like a lady. Every reponse must sound like a lady.\"\n",
    "user_query = \"What is the weather like today?\""
   ]
  },
  {
   "cell_type": "code",
   "execution_count": 5,
   "metadata": {},
   "outputs": [
    {
     "data": {
      "text/plain": [
       "\" Oh, goodness me! *adjusts pearl necklace* Why, the weather today is simply divine! The sun is shining brightly, casting a warm glow over everything. It's just the bee's knees, darling! I do hope you're not planning on going outside without your parasol, dear. *giggles* It's simply too lovely to be caught in the rain without proper protection. But fear not, my dear, for it's a beautiful day for a stroll in the gardens or a picnic with one's sweetie. Just be sure to bring your umbrella, just in case. *winks*\""
      ]
     },
     "execution_count": 5,
     "metadata": {},
     "output_type": "execute_result"
    }
   ],
   "source": [
    "data = query(system_instruction,user_query)\n",
    "data['content']"
   ]
  },
  {
   "cell_type": "markdown",
   "metadata": {},
   "source": [
    "## MCQ Evaluation"
   ]
  },
  {
   "cell_type": "code",
   "execution_count": 89,
   "metadata": {},
   "outputs": [],
   "source": [
    "system_instruction = \"\"\"\n",
    "You are a huge fan of the TV Show Friends. You will be given a QUESTION and four OPTIONS. I want you to ANSWER the QUESTION with the following steps.\n",
    "\n",
    "Evaluation Steps:\n",
    "1. Read the QUESTION carefully.\n",
    "2. Choose the correct OPTION from OPTIONS best of your knowledge.\n",
    "3. Output the ANSWER which is a single alphabet from A, B, C, D which is the right OPTION for the QUESTION\n",
    "4. The Output format for each OPTION is \n",
    "    for A: 'ANSWER: A'\n",
    "    for B: 'ANSWER: B'\n",
    "    for C: 'ANSWER: C'\n",
    "    for D: 'ANSWER: D'\n",
    "\n",
    "Here are a few Examples for how I expect the answer to be.\n",
    "Examples:\n",
    "\n",
    "{\n",
    "    QUESTION: What is the name of Ross and Rachel's daughter,\n",
    "    OPTIONS: \n",
    "        A. Emma\n",
    "        B. Delilah\n",
    "        C. Bemma\n",
    "        D. Vanshita\n",
    "    ANSWER: A\n",
    "},\n",
    "\n",
    "{\n",
    "    QUESTION: What is Chandler Bing's Middle Name,\n",
    "    OPTIONS: \n",
    "        A. Meredith\n",
    "        B. Muriel\n",
    "        C. Richard\n",
    "        D. Robert\n",
    "    ANSWER: B\n",
    "}\n",
    "\n",
    "Based on the above Evaluation Steps and Examples now ANSWER the QUESTION I give you\"\"\"\n",
    "\n",
    "user_query = \"\"\"\n",
    "\n",
    "QUESTION: Where did Carol meet her wife\n",
    "\n",
    "OPTIONS: \n",
    "    A. At Central Perk\n",
    "    B. At the Gym\n",
    "    C. At work\n",
    "    D. At the library\n",
    "\n",
    "OUTPUT only the ANSWER which is either A, B, C or D. \n",
    "The ANSWER is\n",
    "\"\"\"\n",
    "\n"
   ]
  },
  {
   "cell_type": "code",
   "execution_count": 23,
   "metadata": {},
   "outputs": [
    {
     "data": {
      "text/plain": [
       "' ANSWER: B'"
      ]
     },
     "execution_count": 23,
     "metadata": {},
     "output_type": "execute_result"
    }
   ],
   "source": [
    "data = query(system_instruction,user_query)\n",
    "data['content']"
   ]
  },
  {
   "cell_type": "code",
   "execution_count": 161,
   "metadata": {},
   "outputs": [],
   "source": [
    "import re\n",
    "from collections import Counter\n",
    "\n",
    "\n",
    "def get_mcq_answer(\n",
    "    question,\n",
    "    options,\n",
    "    reference,\n",
    "    samples = 5\n",
    "):\n",
    "    outputs = []\n",
    "    answers = []\n",
    "    option_a, option_b, option_c, option_d = options\n",
    "\n",
    "    system_instruction = \"\"\"\n",
    "        You are a huge fan of the TV Show Friends. You will be given a QUESTION and four OPTIONS. I want you to ANSWER the QUESTION with the following steps.\n",
    "\n",
    "        Evaluation Steps:\n",
    "        1. Read the QUESTION carefully.\n",
    "        2. Choose the correct OPTION from OPTIONS best of your knowledge.\n",
    "        3. Output the ANSWER which is a single alphabet from A, B, C, D which is the right OPTION for the QUESTION\n",
    "        4. The Output format for each OPTION is \n",
    "            for A: 'ANSWER: A'\n",
    "            for B: 'ANSWER: B'\n",
    "            for C: 'ANSWER: C'\n",
    "            for D: 'ANSWER: D'\n",
    "\n",
    "        Here are a few Examples for how I expect the answer to be.\n",
    "        Examples:\n",
    "\n",
    "        {\n",
    "            QUESTION: What is the name of Ross and Rachel's daughter,\n",
    "            OPTIONS: \n",
    "                A. Emma\n",
    "                B. Delilah\n",
    "                C. Bemma\n",
    "                D. Vanshita\n",
    "            ANSWER: A\n",
    "        },\n",
    "\n",
    "        {\n",
    "            QUESTION: What is Chandler Bing's Middle Name,\n",
    "            OPTIONS: \n",
    "                A. Meredith\n",
    "                B. Muriel\n",
    "                C. Richard\n",
    "                D. Robert\n",
    "            ANSWER: B\n",
    "        }\n",
    "\n",
    "        Based on the above Evaluation Steps and Examples now ANSWER the QUESTION I give you\n",
    "    \"\"\"\n",
    "\n",
    "    user_query = f\"\"\"\n",
    "\n",
    "        QUESTION: {question}\n",
    "\n",
    "        OPTIONS: \n",
    "            A. {option_a}\n",
    "            B. {option_b}\n",
    "            C. {option_c}\n",
    "            D. {option_d}\n",
    "\n",
    "        OUTPUT only the ANSWER which is either A, B, C or D. \n",
    "        The ANSWER is\n",
    "    \"\"\"\n",
    "    other_answers = []\n",
    "    while not answers:\n",
    "        for _ in range(samples):\n",
    "            output = query(system_instruction, user_query)['content']\n",
    "\n",
    "            outputs.append(output)\n",
    "\n",
    "            match = re.search(r'\\b(?:ANSWER|Answer is)(?:\\:|) ([A-D])\\b', output, flags = re.IGNORECASE)\n",
    "\n",
    "            if match:\n",
    "                answer_choice = match.group(1)\n",
    "                answers.append(answer_choice)\n",
    "\n",
    "    # Count occurrences\n",
    "    correct_format_rate = len(answers)/samples\n",
    "    correct_answer_rate = sum(1 for answer in answers if answer == reference)/len(answers)\n",
    "\n",
    "    # get the most occurring sampled answer as the final answer\n",
    "    counts = Counter(answers)\n",
    "    answer = max(counts, key=lambda x: (counts[x], answers.index(x)))\n",
    "\n",
    "    # print(outputs)\n",
    "    # print(answers)\n",
    "\n",
    "\n",
    "    return answer, correct_format_rate, correct_answer_rate  \n",
    "    \n",
    "    # while not answers:\n",
    "    #     for _ in range(samples):\n",
    "    #         output = query(system_instruction, user_query)['content']\n",
    "\n",
    "    #         outputs.append(output)\n",
    "\n",
    "    #         match = re.search(r'\\b(?:ANSWER|Answer is)(?:\\:|) ([A-D])\\b', output, flags = re.IGNORECASE)\n",
    "\n",
    "    #         if match:\n",
    "    #             answer_choice = match.group(1)\n",
    "    #             answers.append(answer_choice)\n",
    "\n",
    "    # # Count occurrences\n",
    "    # correct_format_rate = len(answers)/samples\n",
    "    # correct_answer_rate = sum(1 for answer in answers if answer == reference)/len(answers)\n",
    "\n",
    "    # # get the most occurring sampled answer as the final answer\n",
    "    # counts = Counter(answers)\n",
    "    # answer = max(counts, key=lambda x: (counts[x], answers.index(x)))\n",
    "\n",
    "    # # print(outputs)\n",
    "    # # print(answers)\n",
    "\n",
    "\n",
    "    # return answer, correct_format_rate, correct_answer_rate    "
   ]
  },
  {
   "cell_type": "code",
   "execution_count": 13,
   "metadata": {},
   "outputs": [],
   "source": [
    "import ast\n",
    "import swifter\n"
   ]
  },
  {
   "cell_type": "code",
   "execution_count": 18,
   "metadata": {},
   "outputs": [
    {
     "data": {
      "application/vnd.jupyter.widget-view+json": {
       "model_id": "295e7c4d1ce34ab3a78f256e0fa95f00",
       "version_major": 2,
       "version_minor": 0
      },
      "text/plain": [
       "Pandas Apply:   0%|          | 0/695 [00:00<?, ?it/s]"
      ]
     },
     "metadata": {},
     "output_type": "display_data"
    },
    {
     "data": {
      "application/vnd.jupyter.widget-view+json": {
       "model_id": "8663e862411541389de60b1ba339722e",
       "version_major": 2,
       "version_minor": 0
      },
      "text/plain": [
       "Pandas Apply:   0%|          | 0/695 [00:00<?, ?it/s]"
      ]
     },
     "metadata": {},
     "output_type": "display_data"
    },
    {
     "data": {
      "text/plain": [
       "Question             Janine, who wasn’t very fond of Chandler and M...\n",
       "Options              [Ross' girlfriend, Phoebe's roommate, Ross' ro...\n",
       "Correct Answer                                         Joey's roommate\n",
       "Correct_Answer_no                                                    D\n",
       "number_of_options                                                    4\n",
       "Name: 261, dtype: object"
      ]
     },
     "execution_count": 18,
     "metadata": {},
     "output_type": "execute_result"
    }
   ],
   "source": [
    "import pandas as pd\n",
    "data=pd.read_csv('MCQ_Dataset.csv')\n",
    "data.Options = data.Options.swifter.apply(lambda x : ast.literal_eval(x))\n",
    "data['number_of_options'] = data.Options.swifter.apply(lambda x: len(x))\n",
    "data=data.loc[data['number_of_options']==4]\n",
    "data.iloc[260]"
   ]
  },
  {
   "cell_type": "code",
   "execution_count": 156,
   "metadata": {},
   "outputs": [
    {
     "data": {
      "application/vnd.jupyter.widget-view+json": {
       "model_id": "888523ce7f144b70a02356387f29052a",
       "version_major": 2,
       "version_minor": 0
      },
      "text/plain": [
       "Pandas Apply:   0%|          | 0/694 [00:00<?, ?it/s]"
      ]
     },
     "metadata": {},
     "output_type": "display_data"
    },
    {
     "ename": "KeyboardInterrupt",
     "evalue": "",
     "output_type": "error",
     "traceback": [
      "\u001b[0;31m---------------------------------------------------------------------------\u001b[0m",
      "\u001b[0;31mKeyboardInterrupt\u001b[0m                         Traceback (most recent call last)",
      "Cell \u001b[0;32mIn [156], line 1\u001b[0m\n\u001b[0;32m----> 1\u001b[0m data[\u001b[38;5;124m'\u001b[39m\u001b[38;5;124mprediction\u001b[39m\u001b[38;5;124m'\u001b[39m], data[\u001b[38;5;124m'\u001b[39m\u001b[38;5;124mcorrect_format_rate\u001b[39m\u001b[38;5;124m'\u001b[39m],data[\u001b[38;5;124m'\u001b[39m\u001b[38;5;124mcorrect_answer_rate\u001b[39m\u001b[38;5;124m'\u001b[39m]\u001b[38;5;241m=\u001b[39m \u001b[38;5;28mzip\u001b[39m(\u001b[38;5;241m*\u001b[39m\u001b[43mdata\u001b[49m\u001b[38;5;241;43m.\u001b[39;49m\u001b[43mswifter\u001b[49m\u001b[38;5;241;43m.\u001b[39;49m\u001b[43mapply\u001b[49m\u001b[43m(\u001b[49m\n\u001b[1;32m      2\u001b[0m \u001b[43m    \u001b[49m\u001b[38;5;28;43;01mlambda\u001b[39;49;00m\u001b[43m \u001b[49m\u001b[43mx\u001b[49m\u001b[43m:\u001b[49m\u001b[43m \u001b[49m\u001b[43mget_mcq_answer\u001b[49m\u001b[43m(\u001b[49m\n\u001b[1;32m      3\u001b[0m \u001b[43m        \u001b[49m\u001b[43mquestion\u001b[49m\u001b[38;5;241;43m=\u001b[39;49m\u001b[43mx\u001b[49m\u001b[43m[\u001b[49m\u001b[38;5;124;43m'\u001b[39;49m\u001b[38;5;124;43mQuestion\u001b[39;49m\u001b[38;5;124;43m'\u001b[39;49m\u001b[43m]\u001b[49m\u001b[43m,\u001b[49m\n\u001b[1;32m      4\u001b[0m \u001b[43m        \u001b[49m\u001b[43moptions\u001b[49m\u001b[38;5;241;43m=\u001b[39;49m\u001b[43mx\u001b[49m\u001b[43m[\u001b[49m\u001b[38;5;124;43m'\u001b[39;49m\u001b[38;5;124;43mOptions\u001b[39;49m\u001b[38;5;124;43m'\u001b[39;49m\u001b[43m]\u001b[49m\u001b[43m,\u001b[49m\n\u001b[1;32m      5\u001b[0m \u001b[43m        \u001b[49m\u001b[43mreference\u001b[49m\u001b[38;5;241;43m=\u001b[39;49m\u001b[43mx\u001b[49m\u001b[43m[\u001b[49m\u001b[38;5;124;43m'\u001b[39;49m\u001b[38;5;124;43mCorrect_Answer_no\u001b[39;49m\u001b[38;5;124;43m'\u001b[39;49m\u001b[43m]\u001b[49m\u001b[43m,\u001b[49m\n\u001b[1;32m      6\u001b[0m \u001b[43m        \u001b[49m\u001b[43msamples\u001b[49m\u001b[38;5;241;43m=\u001b[39;49m\u001b[38;5;241;43m5\u001b[39;49m\n\u001b[1;32m      7\u001b[0m \u001b[43m    \u001b[49m\u001b[43m)\u001b[49m\u001b[43m,\u001b[49m\n\u001b[1;32m      8\u001b[0m \u001b[43m    \u001b[49m\u001b[43maxis\u001b[49m\u001b[38;5;241;43m=\u001b[39;49m\u001b[38;5;241;43m1\u001b[39;49m\n\u001b[1;32m      9\u001b[0m \u001b[43m)\u001b[49m)\n",
      "File \u001b[0;32m~/Library/Python/3.8/lib/python/site-packages/swifter/swifter.py:437\u001b[0m, in \u001b[0;36mDataFrameAccessor.apply\u001b[0;34m(self, func, axis, raw, result_type, args, **kwds)\u001b[0m\n\u001b[1;32m    435\u001b[0m     \u001b[39mreturn\u001b[39;00m \u001b[39mself\u001b[39m\u001b[39m.\u001b[39m_parallel_apply(func, axis, raw, result_type, \u001b[39m*\u001b[39margs, \u001b[39m*\u001b[39m\u001b[39m*\u001b[39mkwds)\n\u001b[1;32m    436\u001b[0m \u001b[39melse\u001b[39;00m:  \u001b[39m# use pandas\u001b[39;00m\n\u001b[0;32m--> 437\u001b[0m     \u001b[39mreturn\u001b[39;00m \u001b[39mself\u001b[39;49m\u001b[39m.\u001b[39;49m_pandas_apply(\u001b[39mself\u001b[39;49m\u001b[39m.\u001b[39;49m_obj, func, axis, raw, result_type, \u001b[39m*\u001b[39;49margs, \u001b[39m*\u001b[39;49m\u001b[39m*\u001b[39;49mkwds)\n",
      "File \u001b[0;32m~/Library/Python/3.8/lib/python/site-packages/swifter/swifter.py:350\u001b[0m, in \u001b[0;36mDataFrameAccessor._pandas_apply\u001b[0;34m(self, df, func, axis, raw, result_type, *args, **kwds)\u001b[0m\n\u001b[1;32m    347\u001b[0m \u001b[39melse\u001b[39;00m:\n\u001b[1;32m    348\u001b[0m     apply_func \u001b[39m=\u001b[39m df\u001b[39m.\u001b[39mapply\n\u001b[0;32m--> 350\u001b[0m \u001b[39mreturn\u001b[39;00m apply_func(func, axis\u001b[39m=\u001b[39;49maxis, raw\u001b[39m=\u001b[39;49mraw, result_type\u001b[39m=\u001b[39;49mresult_type, args\u001b[39m=\u001b[39;49margs, \u001b[39m*\u001b[39;49m\u001b[39m*\u001b[39;49mkwds)\n",
      "File \u001b[0;32m~/Library/Python/3.8/lib/python/site-packages/tqdm/std.py:814\u001b[0m, in \u001b[0;36mtqdm.pandas.<locals>.inner_generator.<locals>.inner\u001b[0;34m(df, func, *args, **kwargs)\u001b[0m\n\u001b[1;32m    811\u001b[0m \u001b[39m# Apply the provided function (in **kwargs)\u001b[39;00m\n\u001b[1;32m    812\u001b[0m \u001b[39m# on the df using our wrapper (which provides bar updating)\u001b[39;00m\n\u001b[1;32m    813\u001b[0m \u001b[39mtry\u001b[39;00m:\n\u001b[0;32m--> 814\u001b[0m     \u001b[39mreturn\u001b[39;00m \u001b[39mgetattr\u001b[39;49m(df, df_function)(wrapper, \u001b[39m*\u001b[39;49m\u001b[39m*\u001b[39;49mkwargs)\n\u001b[1;32m    815\u001b[0m \u001b[39mfinally\u001b[39;00m:\n\u001b[1;32m    816\u001b[0m     t\u001b[39m.\u001b[39mclose()\n",
      "File \u001b[0;32m~/Library/Python/3.8/lib/python/site-packages/pandas/core/frame.py:9558\u001b[0m, in \u001b[0;36mDataFrame.apply\u001b[0;34m(self, func, axis, raw, result_type, args, **kwargs)\u001b[0m\n\u001b[1;32m   9547\u001b[0m \u001b[39mfrom\u001b[39;00m \u001b[39mpandas\u001b[39;00m\u001b[39m.\u001b[39;00m\u001b[39mcore\u001b[39;00m\u001b[39m.\u001b[39;00m\u001b[39mapply\u001b[39;00m \u001b[39mimport\u001b[39;00m frame_apply\n\u001b[1;32m   9549\u001b[0m op \u001b[39m=\u001b[39m frame_apply(\n\u001b[1;32m   9550\u001b[0m     \u001b[39mself\u001b[39m,\n\u001b[1;32m   9551\u001b[0m     func\u001b[39m=\u001b[39mfunc,\n\u001b[0;32m   (...)\u001b[0m\n\u001b[1;32m   9556\u001b[0m     kwargs\u001b[39m=\u001b[39mkwargs,\n\u001b[1;32m   9557\u001b[0m )\n\u001b[0;32m-> 9558\u001b[0m \u001b[39mreturn\u001b[39;00m op\u001b[39m.\u001b[39;49mapply()\u001b[39m.\u001b[39m__finalize__(\u001b[39mself\u001b[39m, method\u001b[39m=\u001b[39m\u001b[39m\"\u001b[39m\u001b[39mapply\u001b[39m\u001b[39m\"\u001b[39m)\n",
      "File \u001b[0;32m~/Library/Python/3.8/lib/python/site-packages/pandas/core/apply.py:741\u001b[0m, in \u001b[0;36mFrameApply.apply\u001b[0;34m(self)\u001b[0m\n\u001b[1;32m    738\u001b[0m \u001b[39melif\u001b[39;00m \u001b[39mself\u001b[39m\u001b[39m.\u001b[39mraw:\n\u001b[1;32m    739\u001b[0m     \u001b[39mreturn\u001b[39;00m \u001b[39mself\u001b[39m\u001b[39m.\u001b[39mapply_raw()\n\u001b[0;32m--> 741\u001b[0m \u001b[39mreturn\u001b[39;00m \u001b[39mself\u001b[39;49m\u001b[39m.\u001b[39;49mapply_standard()\n",
      "File \u001b[0;32m~/Library/Python/3.8/lib/python/site-packages/pandas/core/apply.py:868\u001b[0m, in \u001b[0;36mFrameApply.apply_standard\u001b[0;34m(self)\u001b[0m\n\u001b[1;32m    867\u001b[0m \u001b[39mdef\u001b[39;00m \u001b[39mapply_standard\u001b[39m(\u001b[39mself\u001b[39m):\n\u001b[0;32m--> 868\u001b[0m     results, res_index \u001b[39m=\u001b[39m \u001b[39mself\u001b[39;49m\u001b[39m.\u001b[39;49mapply_series_generator()\n\u001b[1;32m    870\u001b[0m     \u001b[39m# wrap results\u001b[39;00m\n\u001b[1;32m    871\u001b[0m     \u001b[39mreturn\u001b[39;00m \u001b[39mself\u001b[39m\u001b[39m.\u001b[39mwrap_results(results, res_index)\n",
      "File \u001b[0;32m~/Library/Python/3.8/lib/python/site-packages/pandas/core/apply.py:884\u001b[0m, in \u001b[0;36mFrameApply.apply_series_generator\u001b[0;34m(self)\u001b[0m\n\u001b[1;32m    881\u001b[0m \u001b[39mwith\u001b[39;00m option_context(\u001b[39m\"\u001b[39m\u001b[39mmode.chained_assignment\u001b[39m\u001b[39m\"\u001b[39m, \u001b[39mNone\u001b[39;00m):\n\u001b[1;32m    882\u001b[0m     \u001b[39mfor\u001b[39;00m i, v \u001b[39min\u001b[39;00m \u001b[39menumerate\u001b[39m(series_gen):\n\u001b[1;32m    883\u001b[0m         \u001b[39m# ignore SettingWithCopy here in case the user mutates\u001b[39;00m\n\u001b[0;32m--> 884\u001b[0m         results[i] \u001b[39m=\u001b[39m \u001b[39mself\u001b[39;49m\u001b[39m.\u001b[39;49mf(v)\n\u001b[1;32m    885\u001b[0m         \u001b[39mif\u001b[39;00m \u001b[39misinstance\u001b[39m(results[i], ABCSeries):\n\u001b[1;32m    886\u001b[0m             \u001b[39m# If we have a view on v, we need to make a copy because\u001b[39;00m\n\u001b[1;32m    887\u001b[0m             \u001b[39m#  series_generator will swap out the underlying data\u001b[39;00m\n\u001b[1;32m    888\u001b[0m             results[i] \u001b[39m=\u001b[39m results[i]\u001b[39m.\u001b[39mcopy(deep\u001b[39m=\u001b[39m\u001b[39mFalse\u001b[39;00m)\n",
      "File \u001b[0;32m~/Library/Python/3.8/lib/python/site-packages/tqdm/std.py:809\u001b[0m, in \u001b[0;36mtqdm.pandas.<locals>.inner_generator.<locals>.inner.<locals>.wrapper\u001b[0;34m(*args, **kwargs)\u001b[0m\n\u001b[1;32m    803\u001b[0m \u001b[39mdef\u001b[39;00m \u001b[39mwrapper\u001b[39m(\u001b[39m*\u001b[39margs, \u001b[39m*\u001b[39m\u001b[39m*\u001b[39mkwargs):\n\u001b[1;32m    804\u001b[0m     \u001b[39m# update tbar correctly\u001b[39;00m\n\u001b[1;32m    805\u001b[0m     \u001b[39m# it seems `pandas apply` calls `func` twice\u001b[39;00m\n\u001b[1;32m    806\u001b[0m     \u001b[39m# on the first column/row to decide whether it can\u001b[39;00m\n\u001b[1;32m    807\u001b[0m     \u001b[39m# take a fast or slow code path; so stop when t.total==t.n\u001b[39;00m\n\u001b[1;32m    808\u001b[0m     t\u001b[39m.\u001b[39mupdate(n\u001b[39m=\u001b[39m\u001b[39m1\u001b[39m \u001b[39mif\u001b[39;00m \u001b[39mnot\u001b[39;00m t\u001b[39m.\u001b[39mtotal \u001b[39mor\u001b[39;00m t\u001b[39m.\u001b[39mn \u001b[39m<\u001b[39m t\u001b[39m.\u001b[39mtotal \u001b[39melse\u001b[39;00m \u001b[39m0\u001b[39m)\n\u001b[0;32m--> 809\u001b[0m     \u001b[39mreturn\u001b[39;00m func(\u001b[39m*\u001b[39;49margs, \u001b[39m*\u001b[39;49m\u001b[39m*\u001b[39;49mkwargs)\n",
      "Cell \u001b[0;32mIn [156], line 2\u001b[0m, in \u001b[0;36m<lambda>\u001b[0;34m(x)\u001b[0m\n\u001b[1;32m      1\u001b[0m data[\u001b[38;5;124m'\u001b[39m\u001b[38;5;124mprediction\u001b[39m\u001b[38;5;124m'\u001b[39m], data[\u001b[38;5;124m'\u001b[39m\u001b[38;5;124mcorrect_format_rate\u001b[39m\u001b[38;5;124m'\u001b[39m],data[\u001b[38;5;124m'\u001b[39m\u001b[38;5;124mcorrect_answer_rate\u001b[39m\u001b[38;5;124m'\u001b[39m]\u001b[38;5;241m=\u001b[39m \u001b[38;5;28mzip\u001b[39m(\u001b[38;5;241m*\u001b[39mdata\u001b[38;5;241m.\u001b[39mswifter\u001b[38;5;241m.\u001b[39mapply(\n\u001b[0;32m----> 2\u001b[0m     \u001b[38;5;28;01mlambda\u001b[39;00m x: \u001b[43mget_mcq_answer\u001b[49m\u001b[43m(\u001b[49m\n\u001b[1;32m      3\u001b[0m \u001b[43m        \u001b[49m\u001b[43mquestion\u001b[49m\u001b[38;5;241;43m=\u001b[39;49m\u001b[43mx\u001b[49m\u001b[43m[\u001b[49m\u001b[38;5;124;43m'\u001b[39;49m\u001b[38;5;124;43mQuestion\u001b[39;49m\u001b[38;5;124;43m'\u001b[39;49m\u001b[43m]\u001b[49m\u001b[43m,\u001b[49m\n\u001b[1;32m      4\u001b[0m \u001b[43m        \u001b[49m\u001b[43moptions\u001b[49m\u001b[38;5;241;43m=\u001b[39;49m\u001b[43mx\u001b[49m\u001b[43m[\u001b[49m\u001b[38;5;124;43m'\u001b[39;49m\u001b[38;5;124;43mOptions\u001b[39;49m\u001b[38;5;124;43m'\u001b[39;49m\u001b[43m]\u001b[49m\u001b[43m,\u001b[49m\n\u001b[1;32m      5\u001b[0m \u001b[43m        \u001b[49m\u001b[43mreference\u001b[49m\u001b[38;5;241;43m=\u001b[39;49m\u001b[43mx\u001b[49m\u001b[43m[\u001b[49m\u001b[38;5;124;43m'\u001b[39;49m\u001b[38;5;124;43mCorrect_Answer_no\u001b[39;49m\u001b[38;5;124;43m'\u001b[39;49m\u001b[43m]\u001b[49m\u001b[43m,\u001b[49m\n\u001b[1;32m      6\u001b[0m \u001b[43m        \u001b[49m\u001b[43msamples\u001b[49m\u001b[38;5;241;43m=\u001b[39;49m\u001b[38;5;241;43m5\u001b[39;49m\n\u001b[1;32m      7\u001b[0m \u001b[43m    \u001b[49m\u001b[43m)\u001b[49m,\n\u001b[1;32m      8\u001b[0m     axis\u001b[38;5;241m=\u001b[39m\u001b[38;5;241m1\u001b[39m\n\u001b[1;32m      9\u001b[0m ))\n",
      "Cell \u001b[0;32mIn [152], line 70\u001b[0m, in \u001b[0;36mget_mcq_answer\u001b[0;34m(question, options, reference, samples)\u001b[0m\n\u001b[1;32m     68\u001b[0m \u001b[38;5;28;01mwhile\u001b[39;00m \u001b[38;5;129;01mnot\u001b[39;00m answers:\n\u001b[1;32m     69\u001b[0m     \u001b[38;5;28;01mfor\u001b[39;00m _ \u001b[38;5;129;01min\u001b[39;00m \u001b[38;5;28mrange\u001b[39m(samples):\n\u001b[0;32m---> 70\u001b[0m         output \u001b[38;5;241m=\u001b[39m \u001b[43mquery\u001b[49m\u001b[43m(\u001b[49m\u001b[43msystem_instruction\u001b[49m\u001b[43m,\u001b[49m\u001b[43m \u001b[49m\u001b[43muser_query\u001b[49m\u001b[43m)\u001b[49m[\u001b[38;5;124m'\u001b[39m\u001b[38;5;124mcontent\u001b[39m\u001b[38;5;124m'\u001b[39m]\n\u001b[1;32m     72\u001b[0m         outputs\u001b[38;5;241m.\u001b[39mappend(output)\n\u001b[1;32m     74\u001b[0m         match \u001b[38;5;241m=\u001b[39m re\u001b[38;5;241m.\u001b[39msearch(\u001b[38;5;124mr\u001b[39m\u001b[38;5;124m'\u001b[39m\u001b[38;5;124m\\\u001b[39m\u001b[38;5;124mb(?:ANSWER|Answer is)(?:\u001b[39m\u001b[38;5;124m\\\u001b[39m\u001b[38;5;124m:|) ([A-D])\u001b[39m\u001b[38;5;124m\\\u001b[39m\u001b[38;5;124mb\u001b[39m\u001b[38;5;124m'\u001b[39m, output, flags \u001b[38;5;241m=\u001b[39m re\u001b[38;5;241m.\u001b[39mIGNORECASE)\n",
      "Cell \u001b[0;32mIn [86], line 9\u001b[0m, in \u001b[0;36mquery\u001b[0;34m(system_instruction, user_query)\u001b[0m\n\u001b[1;32m      2\u001b[0m json_body \u001b[38;5;241m=\u001b[39m {\n\u001b[1;32m      3\u001b[0m     \u001b[38;5;124m\"\u001b[39m\u001b[38;5;124mprompt\u001b[39m\u001b[38;5;124m\"\u001b[39m: \u001b[38;5;124mf\u001b[39m\u001b[38;5;124m\"\u001b[39m\u001b[38;5;124m[INST] <<SYS>>\u001b[39m\u001b[38;5;132;01m{\u001b[39;00msystem_instruction\u001b[38;5;132;01m}\u001b[39;00m\u001b[38;5;124m<<SYS>> \u001b[39m\u001b[38;5;132;01m{\u001b[39;00muser_query\u001b[38;5;132;01m}\u001b[39;00m\u001b[38;5;124m [/INST] \u001b[39m\u001b[38;5;124m\"\u001b[39m,\n\u001b[1;32m      4\u001b[0m     \u001b[38;5;124m\"\u001b[39m\u001b[38;5;124mmax_new_tokens\u001b[39m\u001b[38;5;124m\"\u001b[39m:\u001b[38;5;241m256\u001b[39m, \n\u001b[1;32m      5\u001b[0m     \u001b[38;5;124m\"\u001b[39m\u001b[38;5;124mtop_p\u001b[39m\u001b[38;5;124m\"\u001b[39m:\u001b[38;5;241m0.9\u001b[39m, \n\u001b[1;32m      6\u001b[0m     \u001b[38;5;124m\"\u001b[39m\u001b[38;5;124mtemperature\u001b[39m\u001b[38;5;124m\"\u001b[39m:\u001b[38;5;241m0.7\u001b[39m\n\u001b[1;32m      7\u001b[0m     }\n\u001b[1;32m      8\u001b[0m data \u001b[38;5;241m=\u001b[39m json\u001b[38;5;241m.\u001b[39mdumps(json_body)\n\u001b[0;32m----> 9\u001b[0m response \u001b[38;5;241m=\u001b[39m \u001b[43mrequests\u001b[49m\u001b[38;5;241;43m.\u001b[39;49m\u001b[43mrequest\u001b[49m\u001b[43m(\u001b[49m\u001b[38;5;124;43m\"\u001b[39;49m\u001b[38;5;124;43mPOST\u001b[39;49m\u001b[38;5;124;43m\"\u001b[39;49m\u001b[43m,\u001b[49m\u001b[43m \u001b[49m\u001b[43mAPI_URL\u001b[49m\u001b[43m,\u001b[49m\u001b[43m \u001b[49m\u001b[43mdata\u001b[49m\u001b[38;5;241;43m=\u001b[39;49m\u001b[43mdata\u001b[49m\u001b[43m)\u001b[49m\n\u001b[1;32m     10\u001b[0m \u001b[38;5;28;01mtry\u001b[39;00m:\n\u001b[1;32m     11\u001b[0m     \u001b[38;5;28;01mreturn\u001b[39;00m json\u001b[38;5;241m.\u001b[39mloads(response\u001b[38;5;241m.\u001b[39mcontent\u001b[38;5;241m.\u001b[39mdecode(\u001b[38;5;124m\"\u001b[39m\u001b[38;5;124mutf-8\u001b[39m\u001b[38;5;124m\"\u001b[39m))\n",
      "File \u001b[0;32m~/Library/Python/3.8/lib/python/site-packages/requests/api.py:59\u001b[0m, in \u001b[0;36mrequest\u001b[0;34m(method, url, **kwargs)\u001b[0m\n\u001b[1;32m     55\u001b[0m \u001b[39m# By using the 'with' statement we are sure the session is closed, thus we\u001b[39;00m\n\u001b[1;32m     56\u001b[0m \u001b[39m# avoid leaving sockets open which can trigger a ResourceWarning in some\u001b[39;00m\n\u001b[1;32m     57\u001b[0m \u001b[39m# cases, and look like a memory leak in others.\u001b[39;00m\n\u001b[1;32m     58\u001b[0m \u001b[39mwith\u001b[39;00m sessions\u001b[39m.\u001b[39mSession() \u001b[39mas\u001b[39;00m session:\n\u001b[0;32m---> 59\u001b[0m     \u001b[39mreturn\u001b[39;00m session\u001b[39m.\u001b[39;49mrequest(method\u001b[39m=\u001b[39;49mmethod, url\u001b[39m=\u001b[39;49murl, \u001b[39m*\u001b[39;49m\u001b[39m*\u001b[39;49mkwargs)\n",
      "File \u001b[0;32m~/Library/Python/3.8/lib/python/site-packages/requests/sessions.py:587\u001b[0m, in \u001b[0;36mSession.request\u001b[0;34m(self, method, url, params, data, headers, cookies, files, auth, timeout, allow_redirects, proxies, hooks, stream, verify, cert, json)\u001b[0m\n\u001b[1;32m    582\u001b[0m send_kwargs \u001b[39m=\u001b[39m {\n\u001b[1;32m    583\u001b[0m     \u001b[39m\"\u001b[39m\u001b[39mtimeout\u001b[39m\u001b[39m\"\u001b[39m: timeout,\n\u001b[1;32m    584\u001b[0m     \u001b[39m\"\u001b[39m\u001b[39mallow_redirects\u001b[39m\u001b[39m\"\u001b[39m: allow_redirects,\n\u001b[1;32m    585\u001b[0m }\n\u001b[1;32m    586\u001b[0m send_kwargs\u001b[39m.\u001b[39mupdate(settings)\n\u001b[0;32m--> 587\u001b[0m resp \u001b[39m=\u001b[39m \u001b[39mself\u001b[39;49m\u001b[39m.\u001b[39;49msend(prep, \u001b[39m*\u001b[39;49m\u001b[39m*\u001b[39;49msend_kwargs)\n\u001b[1;32m    589\u001b[0m \u001b[39mreturn\u001b[39;00m resp\n",
      "File \u001b[0;32m~/Library/Python/3.8/lib/python/site-packages/requests/sessions.py:701\u001b[0m, in \u001b[0;36mSession.send\u001b[0;34m(self, request, **kwargs)\u001b[0m\n\u001b[1;32m    698\u001b[0m start \u001b[39m=\u001b[39m preferred_clock()\n\u001b[1;32m    700\u001b[0m \u001b[39m# Send the request\u001b[39;00m\n\u001b[0;32m--> 701\u001b[0m r \u001b[39m=\u001b[39m adapter\u001b[39m.\u001b[39;49msend(request, \u001b[39m*\u001b[39;49m\u001b[39m*\u001b[39;49mkwargs)\n\u001b[1;32m    703\u001b[0m \u001b[39m# Total elapsed time of the request (approximately)\u001b[39;00m\n\u001b[1;32m    704\u001b[0m elapsed \u001b[39m=\u001b[39m preferred_clock() \u001b[39m-\u001b[39m start\n",
      "File \u001b[0;32m~/Library/Python/3.8/lib/python/site-packages/requests/adapters.py:489\u001b[0m, in \u001b[0;36mHTTPAdapter.send\u001b[0;34m(self, request, stream, timeout, verify, cert, proxies)\u001b[0m\n\u001b[1;32m    487\u001b[0m \u001b[39mtry\u001b[39;00m:\n\u001b[1;32m    488\u001b[0m     \u001b[39mif\u001b[39;00m \u001b[39mnot\u001b[39;00m chunked:\n\u001b[0;32m--> 489\u001b[0m         resp \u001b[39m=\u001b[39m conn\u001b[39m.\u001b[39;49murlopen(\n\u001b[1;32m    490\u001b[0m             method\u001b[39m=\u001b[39;49mrequest\u001b[39m.\u001b[39;49mmethod,\n\u001b[1;32m    491\u001b[0m             url\u001b[39m=\u001b[39;49murl,\n\u001b[1;32m    492\u001b[0m             body\u001b[39m=\u001b[39;49mrequest\u001b[39m.\u001b[39;49mbody,\n\u001b[1;32m    493\u001b[0m             headers\u001b[39m=\u001b[39;49mrequest\u001b[39m.\u001b[39;49mheaders,\n\u001b[1;32m    494\u001b[0m             redirect\u001b[39m=\u001b[39;49m\u001b[39mFalse\u001b[39;49;00m,\n\u001b[1;32m    495\u001b[0m             assert_same_host\u001b[39m=\u001b[39;49m\u001b[39mFalse\u001b[39;49;00m,\n\u001b[1;32m    496\u001b[0m             preload_content\u001b[39m=\u001b[39;49m\u001b[39mFalse\u001b[39;49;00m,\n\u001b[1;32m    497\u001b[0m             decode_content\u001b[39m=\u001b[39;49m\u001b[39mFalse\u001b[39;49;00m,\n\u001b[1;32m    498\u001b[0m             retries\u001b[39m=\u001b[39;49m\u001b[39mself\u001b[39;49m\u001b[39m.\u001b[39;49mmax_retries,\n\u001b[1;32m    499\u001b[0m             timeout\u001b[39m=\u001b[39;49mtimeout,\n\u001b[1;32m    500\u001b[0m         )\n\u001b[1;32m    502\u001b[0m     \u001b[39m# Send the request.\u001b[39;00m\n\u001b[1;32m    503\u001b[0m     \u001b[39melse\u001b[39;00m:\n\u001b[1;32m    504\u001b[0m         \u001b[39mif\u001b[39;00m \u001b[39mhasattr\u001b[39m(conn, \u001b[39m\"\u001b[39m\u001b[39mproxy_pool\u001b[39m\u001b[39m\"\u001b[39m):\n",
      "File \u001b[0;32m~/Library/Python/3.8/lib/python/site-packages/urllib3/connectionpool.py:703\u001b[0m, in \u001b[0;36mHTTPConnectionPool.urlopen\u001b[0;34m(self, method, url, body, headers, retries, redirect, assert_same_host, timeout, pool_timeout, release_conn, chunked, body_pos, **response_kw)\u001b[0m\n\u001b[1;32m    700\u001b[0m     \u001b[39mself\u001b[39m\u001b[39m.\u001b[39m_prepare_proxy(conn)\n\u001b[1;32m    702\u001b[0m \u001b[39m# Make the request on the httplib connection object.\u001b[39;00m\n\u001b[0;32m--> 703\u001b[0m httplib_response \u001b[39m=\u001b[39m \u001b[39mself\u001b[39;49m\u001b[39m.\u001b[39;49m_make_request(\n\u001b[1;32m    704\u001b[0m     conn,\n\u001b[1;32m    705\u001b[0m     method,\n\u001b[1;32m    706\u001b[0m     url,\n\u001b[1;32m    707\u001b[0m     timeout\u001b[39m=\u001b[39;49mtimeout_obj,\n\u001b[1;32m    708\u001b[0m     body\u001b[39m=\u001b[39;49mbody,\n\u001b[1;32m    709\u001b[0m     headers\u001b[39m=\u001b[39;49mheaders,\n\u001b[1;32m    710\u001b[0m     chunked\u001b[39m=\u001b[39;49mchunked,\n\u001b[1;32m    711\u001b[0m )\n\u001b[1;32m    713\u001b[0m \u001b[39m# If we're going to release the connection in ``finally:``, then\u001b[39;00m\n\u001b[1;32m    714\u001b[0m \u001b[39m# the response doesn't need to know about the connection. Otherwise\u001b[39;00m\n\u001b[1;32m    715\u001b[0m \u001b[39m# it will also try to release it and we'll have a double-release\u001b[39;00m\n\u001b[1;32m    716\u001b[0m \u001b[39m# mess.\u001b[39;00m\n\u001b[1;32m    717\u001b[0m response_conn \u001b[39m=\u001b[39m conn \u001b[39mif\u001b[39;00m \u001b[39mnot\u001b[39;00m release_conn \u001b[39melse\u001b[39;00m \u001b[39mNone\u001b[39;00m\n",
      "File \u001b[0;32m~/Library/Python/3.8/lib/python/site-packages/urllib3/connectionpool.py:449\u001b[0m, in \u001b[0;36mHTTPConnectionPool._make_request\u001b[0;34m(self, conn, method, url, timeout, chunked, **httplib_request_kw)\u001b[0m\n\u001b[1;32m    444\u001b[0m             httplib_response \u001b[39m=\u001b[39m conn\u001b[39m.\u001b[39mgetresponse()\n\u001b[1;32m    445\u001b[0m         \u001b[39mexcept\u001b[39;00m \u001b[39mBaseException\u001b[39;00m \u001b[39mas\u001b[39;00m e:\n\u001b[1;32m    446\u001b[0m             \u001b[39m# Remove the TypeError from the exception chain in\u001b[39;00m\n\u001b[1;32m    447\u001b[0m             \u001b[39m# Python 3 (including for exceptions like SystemExit).\u001b[39;00m\n\u001b[1;32m    448\u001b[0m             \u001b[39m# Otherwise it looks like a bug in the code.\u001b[39;00m\n\u001b[0;32m--> 449\u001b[0m             six\u001b[39m.\u001b[39;49mraise_from(e, \u001b[39mNone\u001b[39;49;00m)\n\u001b[1;32m    450\u001b[0m \u001b[39mexcept\u001b[39;00m (SocketTimeout, BaseSSLError, SocketError) \u001b[39mas\u001b[39;00m e:\n\u001b[1;32m    451\u001b[0m     \u001b[39mself\u001b[39m\u001b[39m.\u001b[39m_raise_timeout(err\u001b[39m=\u001b[39me, url\u001b[39m=\u001b[39murl, timeout_value\u001b[39m=\u001b[39mread_timeout)\n",
      "File \u001b[0;32m<string>:3\u001b[0m, in \u001b[0;36mraise_from\u001b[0;34m(value, from_value)\u001b[0m\n",
      "File \u001b[0;32m~/Library/Python/3.8/lib/python/site-packages/urllib3/connectionpool.py:444\u001b[0m, in \u001b[0;36mHTTPConnectionPool._make_request\u001b[0;34m(self, conn, method, url, timeout, chunked, **httplib_request_kw)\u001b[0m\n\u001b[1;32m    441\u001b[0m \u001b[39mexcept\u001b[39;00m \u001b[39mTypeError\u001b[39;00m:\n\u001b[1;32m    442\u001b[0m     \u001b[39m# Python 3\u001b[39;00m\n\u001b[1;32m    443\u001b[0m     \u001b[39mtry\u001b[39;00m:\n\u001b[0;32m--> 444\u001b[0m         httplib_response \u001b[39m=\u001b[39m conn\u001b[39m.\u001b[39;49mgetresponse()\n\u001b[1;32m    445\u001b[0m     \u001b[39mexcept\u001b[39;00m \u001b[39mBaseException\u001b[39;00m \u001b[39mas\u001b[39;00m e:\n\u001b[1;32m    446\u001b[0m         \u001b[39m# Remove the TypeError from the exception chain in\u001b[39;00m\n\u001b[1;32m    447\u001b[0m         \u001b[39m# Python 3 (including for exceptions like SystemExit).\u001b[39;00m\n\u001b[1;32m    448\u001b[0m         \u001b[39m# Otherwise it looks like a bug in the code.\u001b[39;00m\n\u001b[1;32m    449\u001b[0m         six\u001b[39m.\u001b[39mraise_from(e, \u001b[39mNone\u001b[39;00m)\n",
      "File \u001b[0;32m/Library/Developer/CommandLineTools/Library/Frameworks/Python3.framework/Versions/3.8/lib/python3.8/http/client.py:1344\u001b[0m, in \u001b[0;36mHTTPConnection.getresponse\u001b[0;34m(self)\u001b[0m\n\u001b[1;32m   1342\u001b[0m \u001b[39mtry\u001b[39;00m:\n\u001b[1;32m   1343\u001b[0m     \u001b[39mtry\u001b[39;00m:\n\u001b[0;32m-> 1344\u001b[0m         response\u001b[39m.\u001b[39;49mbegin()\n\u001b[1;32m   1345\u001b[0m     \u001b[39mexcept\u001b[39;00m \u001b[39mConnectionError\u001b[39;00m:\n\u001b[1;32m   1346\u001b[0m         \u001b[39mself\u001b[39m\u001b[39m.\u001b[39mclose()\n",
      "File \u001b[0;32m/Library/Developer/CommandLineTools/Library/Frameworks/Python3.framework/Versions/3.8/lib/python3.8/http/client.py:307\u001b[0m, in \u001b[0;36mHTTPResponse.begin\u001b[0;34m(self)\u001b[0m\n\u001b[1;32m    305\u001b[0m \u001b[39m# read until we get a non-100 response\u001b[39;00m\n\u001b[1;32m    306\u001b[0m \u001b[39mwhile\u001b[39;00m \u001b[39mTrue\u001b[39;00m:\n\u001b[0;32m--> 307\u001b[0m     version, status, reason \u001b[39m=\u001b[39m \u001b[39mself\u001b[39;49m\u001b[39m.\u001b[39;49m_read_status()\n\u001b[1;32m    308\u001b[0m     \u001b[39mif\u001b[39;00m status \u001b[39m!=\u001b[39m CONTINUE:\n\u001b[1;32m    309\u001b[0m         \u001b[39mbreak\u001b[39;00m\n",
      "File \u001b[0;32m/Library/Developer/CommandLineTools/Library/Frameworks/Python3.framework/Versions/3.8/lib/python3.8/http/client.py:268\u001b[0m, in \u001b[0;36mHTTPResponse._read_status\u001b[0;34m(self)\u001b[0m\n\u001b[1;32m    267\u001b[0m \u001b[39mdef\u001b[39;00m \u001b[39m_read_status\u001b[39m(\u001b[39mself\u001b[39m):\n\u001b[0;32m--> 268\u001b[0m     line \u001b[39m=\u001b[39m \u001b[39mstr\u001b[39m(\u001b[39mself\u001b[39;49m\u001b[39m.\u001b[39;49mfp\u001b[39m.\u001b[39;49mreadline(_MAXLINE \u001b[39m+\u001b[39;49m \u001b[39m1\u001b[39;49m), \u001b[39m\"\u001b[39m\u001b[39miso-8859-1\u001b[39m\u001b[39m\"\u001b[39m)\n\u001b[1;32m    269\u001b[0m     \u001b[39mif\u001b[39;00m \u001b[39mlen\u001b[39m(line) \u001b[39m>\u001b[39m _MAXLINE:\n\u001b[1;32m    270\u001b[0m         \u001b[39mraise\u001b[39;00m LineTooLong(\u001b[39m\"\u001b[39m\u001b[39mstatus line\u001b[39m\u001b[39m\"\u001b[39m)\n",
      "File \u001b[0;32m/Library/Developer/CommandLineTools/Library/Frameworks/Python3.framework/Versions/3.8/lib/python3.8/socket.py:669\u001b[0m, in \u001b[0;36mSocketIO.readinto\u001b[0;34m(self, b)\u001b[0m\n\u001b[1;32m    667\u001b[0m \u001b[39mwhile\u001b[39;00m \u001b[39mTrue\u001b[39;00m:\n\u001b[1;32m    668\u001b[0m     \u001b[39mtry\u001b[39;00m:\n\u001b[0;32m--> 669\u001b[0m         \u001b[39mreturn\u001b[39;00m \u001b[39mself\u001b[39;49m\u001b[39m.\u001b[39;49m_sock\u001b[39m.\u001b[39;49mrecv_into(b)\n\u001b[1;32m    670\u001b[0m     \u001b[39mexcept\u001b[39;00m timeout:\n\u001b[1;32m    671\u001b[0m         \u001b[39mself\u001b[39m\u001b[39m.\u001b[39m_timeout_occurred \u001b[39m=\u001b[39m \u001b[39mTrue\u001b[39;00m\n",
      "\u001b[0;31mKeyboardInterrupt\u001b[0m: "
     ]
    }
   ],
   "source": [
    "data['prediction'], data['correct_format_rate'],data['correct_answer_rate']= zip(*data.swifter.apply(\n",
    "    lambda x: get_mcq_answer(\n",
    "        question=x['Question'],\n",
    "        options=x['Options'],\n",
    "        reference=x['Correct_Answer_no'],\n",
    "        samples=5\n",
    "    ),\n",
    "    axis=1\n",
    "))"
   ]
  },
  {
   "cell_type": "markdown",
   "metadata": {},
   "source": [
    "# Async Run"
   ]
  },
  {
   "cell_type": "code",
   "execution_count": 102,
   "metadata": {},
   "outputs": [],
   "source": [
    "# !pip3 install aiohttp"
   ]
  },
  {
   "cell_type": "code",
   "execution_count": null,
   "metadata": {},
   "outputs": [],
   "source": []
  },
  {
   "cell_type": "code",
   "execution_count": 8,
   "metadata": {},
   "outputs": [],
   "source": [
    "import re\n",
    "import asyncio\n",
    "from collections import Counter\n",
    "import aiohttp\n",
    "\n",
    "async def async_query(system_instruction, user_query):\n",
    "    json_body = {\n",
    "        \"prompt\": f\"[INST] <<SYS>>{system_instruction}<<SYS>> {user_query} [/INST] \",\n",
    "        \"max_new_tokens\": 256,\n",
    "        \"top_p\": 0.9,\n",
    "        \"temperature\": 0.7\n",
    "    }\n",
    "    data = json.dumps(json_body)\n",
    "\n",
    "    async with aiohttp.ClientSession() as session:\n",
    "        async with session.post(API_URL, data=data) as response:\n",
    "            try:\n",
    "                return await response.json()\n",
    "            except:\n",
    "                return await response.text()\n",
    "\n",
    "async def get_mcq_answer_async(question, options, reference, samples=5):\n",
    "    outputs = []\n",
    "    answers = []\n",
    "    option_a, option_b, option_c, option_d = options\n",
    "\n",
    "    system_instruction = \"\"\"\n",
    "        You are a huge fan of the TV Show Friends. You will be given a QUESTION and four OPTIONS. I want you to ANSWER the QUESTION with the following steps.\n",
    "\n",
    "        Evaluation Steps:\n",
    "        1. Read the QUESTION carefully.\n",
    "        2. Choose the correct OPTION from OPTIONS best of your knowledge.\n",
    "        3. Output the ANSWER which is a single alphabet from A, B, C, D which is the right OPTION for the QUESTION\n",
    "        4. The Output format for each OPTION is \n",
    "            for A: 'ANSWER: A'\n",
    "            for B: 'ANSWER: B'\n",
    "            for C: 'ANSWER: C'\n",
    "            for D: 'ANSWER: D'\n",
    "\n",
    "        Here are a few Examples for how I expect the answer to be.\n",
    "        Examples:\n",
    "\n",
    "        {\n",
    "            QUESTION: What is the name of Ross and Rachel's daughter,\n",
    "            OPTIONS: \n",
    "                A. Emma\n",
    "                B. Delilah\n",
    "                C. Bemma\n",
    "                D. Vanshita\n",
    "            ANSWER: A\n",
    "        },\n",
    "\n",
    "        {\n",
    "            QUESTION: What is Chandler Bing's Middle Name,\n",
    "            OPTIONS: \n",
    "                A. Meredith\n",
    "                B. Muriel\n",
    "                C. Richard\n",
    "                D. Robert\n",
    "            ANSWER: B\n",
    "        }\n",
    "\n",
    "        Based on the above Evaluation Steps and Examples now ANSWER the QUESTION I give you\n",
    "    \"\"\"\n",
    "\n",
    "    user_query = f\"\"\"\n",
    "\n",
    "        QUESTION: {question}\n",
    "\n",
    "        OPTIONS: \n",
    "            A. {option_a}\n",
    "            B. {option_b}\n",
    "            C. {option_c}\n",
    "            D. {option_d}\n",
    "\n",
    "        OUTPUT only the ANSWER which is either A, B, C, or D. \n",
    "        The ANSWER is\n",
    "    \"\"\"\n",
    "    other_answers = []\n",
    "    while not answers:\n",
    "        for _ in range(samples):\n",
    "            output = await async_query(system_instruction, user_query)\n",
    "            output = output['content']\n",
    "\n",
    "            outputs.append(output)\n",
    "\n",
    "            match = re.search(r'\\b(?:ANSWER|Answer is)(?:\\:|) ([A-D])\\b', output, flags=re.IGNORECASE)\n",
    "\n",
    "            if match:\n",
    "                answer_choice = match.group(1)\n",
    "                answers.append(answer_choice)\n",
    "\n",
    "    # Count occurrences\n",
    "    correct_format_rate = len(answers) / samples\n",
    "    correct_answer_rate = sum(1 for answer in answers if answer == reference) / len(answers)\n",
    "\n",
    "    # get the most occurring sampled answer as the final answer\n",
    "    counts = Counter(answers)\n",
    "    answer = max(counts, key=lambda x: (counts[x], answers.index(x)))\n",
    "\n",
    "    # print(outputs)\n",
    "    # print(answers)\n",
    "\n",
    "    return answer, correct_format_rate, correct_answer_rate\n"
   ]
  },
  {
   "cell_type": "code",
   "execution_count": 165,
   "metadata": {},
   "outputs": [
    {
     "data": {
      "text/plain": [
       "('B', 1.0, 0.6)"
      ]
     },
     "execution_count": 165,
     "metadata": {},
     "output_type": "execute_result"
    }
   ],
   "source": [
    "\n",
    "a = await get_mcq_answer_async(\n",
    "        question='Where did Carol meet her wife',\n",
    "        options=['At Central Perk', 'At the Gym', 'At work', 'At the library'],\n",
    "        reference='B',\n",
    "        samples=10\n",
    ")\n",
    "\n",
    "a"
   ]
  },
  {
   "cell_type": "code",
   "execution_count": 166,
   "metadata": {},
   "outputs": [
    {
     "data": {
      "text/html": [
       "<div>\n",
       "<style scoped>\n",
       "    .dataframe tbody tr th:only-of-type {\n",
       "        vertical-align: middle;\n",
       "    }\n",
       "\n",
       "    .dataframe tbody tr th {\n",
       "        vertical-align: top;\n",
       "    }\n",
       "\n",
       "    .dataframe thead th {\n",
       "        text-align: right;\n",
       "    }\n",
       "</style>\n",
       "<table border=\"1\" class=\"dataframe\">\n",
       "  <thead>\n",
       "    <tr style=\"text-align: right;\">\n",
       "      <th></th>\n",
       "      <th>Question</th>\n",
       "      <th>Options</th>\n",
       "      <th>Correct Answer</th>\n",
       "      <th>Correct_Answer_no</th>\n",
       "      <th>number_of_options</th>\n",
       "    </tr>\n",
       "  </thead>\n",
       "  <tbody>\n",
       "    <tr>\n",
       "      <th>0</th>\n",
       "      <td>How many times was Ross legally divorced?  \\n</td>\n",
       "      <td>[Twice, Three times, Five times, Six times]</td>\n",
       "      <td>Three times</td>\n",
       "      <td>B</td>\n",
       "      <td>4</td>\n",
       "    </tr>\n",
       "    <tr>\n",
       "      <th>1</th>\n",
       "      <td>Where did Carol first meet Susan?  \\n</td>\n",
       "      <td>[In college, At work, At the gym, At Central P...</td>\n",
       "      <td>At the gym</td>\n",
       "      <td>C</td>\n",
       "      <td>4</td>\n",
       "    </tr>\n",
       "    <tr>\n",
       "      <th>2</th>\n",
       "      <td>How did Susan and Ross come up with Ben’s name?</td>\n",
       "      <td>[It was the doctor's name  \\n, They both had u...</td>\n",
       "      <td>It was on the janitor's name tag</td>\n",
       "      <td>D</td>\n",
       "      <td>4</td>\n",
       "    </tr>\n",
       "    <tr>\n",
       "      <th>3</th>\n",
       "      <td>What were Ben's first words?  \\n</td>\n",
       "      <td>[Hi, Bye, Mom, Dumb]</td>\n",
       "      <td>Hi</td>\n",
       "      <td>A</td>\n",
       "      <td>4</td>\n",
       "    </tr>\n",
       "    <tr>\n",
       "      <th>4</th>\n",
       "      <td>How long did Ross and Emily date before they g...</td>\n",
       "      <td>[14 days, 6 weeks  \\n, A year  \\n, 3 months]</td>\n",
       "      <td>6 weeks  \\n</td>\n",
       "      <td>B</td>\n",
       "      <td>4</td>\n",
       "    </tr>\n",
       "    <tr>\n",
       "      <th>...</th>\n",
       "      <td>...</td>\n",
       "      <td>...</td>\n",
       "      <td>...</td>\n",
       "      <td>...</td>\n",
       "      <td>...</td>\n",
       "    </tr>\n",
       "    <tr>\n",
       "      <th>690</th>\n",
       "      <td>Who is Monica?</td>\n",
       "      <td>[Ross's Sister, Rachel's Sister, Emily's Siste...</td>\n",
       "      <td>Ross's Sister</td>\n",
       "      <td>A</td>\n",
       "      <td>4</td>\n",
       "    </tr>\n",
       "    <tr>\n",
       "      <th>691</th>\n",
       "      <td>Who says it usually, \"I Know!\"</td>\n",
       "      <td>[Rachel, Chandler, Monica, Joey]</td>\n",
       "      <td>Monica</td>\n",
       "      <td>C</td>\n",
       "      <td>4</td>\n",
       "    </tr>\n",
       "    <tr>\n",
       "      <th>692</th>\n",
       "      <td>Monica Kisses Joey</td>\n",
       "      <td>[True, False, None of the above, All of the ab...</td>\n",
       "      <td>False</td>\n",
       "      <td>B</td>\n",
       "      <td>4</td>\n",
       "    </tr>\n",
       "    <tr>\n",
       "      <th>693</th>\n",
       "      <td>Who did Phoebe marry?</td>\n",
       "      <td>[David, Ross, Mike, Joey]</td>\n",
       "      <td>Mike</td>\n",
       "      <td>C</td>\n",
       "      <td>4</td>\n",
       "    </tr>\n",
       "    <tr>\n",
       "      <th>694</th>\n",
       "      <td>What was the name of the TV show joey worked for?</td>\n",
       "      <td>[Friends, Days Of Our Lives, How I Met Your Mo...</td>\n",
       "      <td>Days Of Our Lives</td>\n",
       "      <td>B</td>\n",
       "      <td>4</td>\n",
       "    </tr>\n",
       "  </tbody>\n",
       "</table>\n",
       "<p>694 rows × 5 columns</p>\n",
       "</div>"
      ],
      "text/plain": [
       "                                              Question  \\\n",
       "0        How many times was Ross legally divorced?  \\n   \n",
       "1                Where did Carol first meet Susan?  \\n   \n",
       "2      How did Susan and Ross come up with Ben’s name?   \n",
       "3                     What were Ben's first words?  \\n   \n",
       "4    How long did Ross and Emily date before they g...   \n",
       "..                                                 ...   \n",
       "690                                     Who is Monica?   \n",
       "691                     Who says it usually, \"I Know!\"   \n",
       "692                                 Monica Kisses Joey   \n",
       "693                              Who did Phoebe marry?   \n",
       "694  What was the name of the TV show joey worked for?   \n",
       "\n",
       "                                               Options  \\\n",
       "0          [Twice, Three times, Five times, Six times]   \n",
       "1    [In college, At work, At the gym, At Central P...   \n",
       "2    [It was the doctor's name  \\n, They both had u...   \n",
       "3                                 [Hi, Bye, Mom, Dumb]   \n",
       "4         [14 days, 6 weeks  \\n, A year  \\n, 3 months]   \n",
       "..                                                 ...   \n",
       "690  [Ross's Sister, Rachel's Sister, Emily's Siste...   \n",
       "691                   [Rachel, Chandler, Monica, Joey]   \n",
       "692  [True, False, None of the above, All of the ab...   \n",
       "693                          [David, Ross, Mike, Joey]   \n",
       "694  [Friends, Days Of Our Lives, How I Met Your Mo...   \n",
       "\n",
       "                       Correct Answer Correct_Answer_no  number_of_options  \n",
       "0                         Three times                 B                  4  \n",
       "1                          At the gym                 C                  4  \n",
       "2    It was on the janitor's name tag                 D                  4  \n",
       "3                                  Hi                 A                  4  \n",
       "4                         6 weeks  \\n                 B                  4  \n",
       "..                                ...               ...                ...  \n",
       "690                     Ross's Sister                 A                  4  \n",
       "691                            Monica                 C                  4  \n",
       "692                             False                 B                  4  \n",
       "693                              Mike                 C                  4  \n",
       "694                 Days Of Our Lives                 B                  4  \n",
       "\n",
       "[694 rows x 5 columns]"
      ]
     },
     "execution_count": 166,
     "metadata": {},
     "output_type": "execute_result"
    }
   ],
   "source": [
    "# !pip3 install swifter\n",
    "data"
   ]
  },
  {
   "cell_type": "code",
   "execution_count": 9,
   "metadata": {},
   "outputs": [
    {
     "name": "stderr",
     "output_type": "stream",
     "text": [
      " 37%|███▋      | 260/694 [2:14:16<3:44:07, 30.99s/it]   \n"
     ]
    },
    {
     "ename": "TimeoutError",
     "evalue": "",
     "output_type": "error",
     "traceback": [
      "\u001b[0;31m---------------------------------------------------------------------------\u001b[0m",
      "\u001b[0;31mTimeoutError\u001b[0m                              Traceback (most recent call last)",
      "Cell \u001b[0;32mIn [9], line 47\u001b[0m\n\u001b[1;32m     45\u001b[0m loop \u001b[38;5;241m=\u001b[39m asyncio\u001b[38;5;241m.\u001b[39mnew_event_loop()\n\u001b[1;32m     46\u001b[0m asyncio\u001b[38;5;241m.\u001b[39mset_event_loop(loop)\n\u001b[0;32m---> 47\u001b[0m data \u001b[38;5;241m=\u001b[39m \u001b[38;5;28;01mawait\u001b[39;00m main()\n",
      "Cell \u001b[0;32mIn [9], line 34\u001b[0m, in \u001b[0;36mmain\u001b[0;34m()\u001b[0m\n\u001b[1;32m     33\u001b[0m \u001b[38;5;28;01masync\u001b[39;00m \u001b[38;5;28;01mdef\u001b[39;00m \u001b[38;5;21mmain\u001b[39m():\n\u001b[0;32m---> 34\u001b[0m     results \u001b[38;5;241m=\u001b[39m \u001b[38;5;28;01mawait\u001b[39;00m process_dataframe_concurrently(data)\n\u001b[1;32m     36\u001b[0m     \u001b[38;5;66;03m# Extract results into separate lists\u001b[39;00m\n\u001b[1;32m     37\u001b[0m     prediction, correct_format_rate, correct_answer_rate \u001b[38;5;241m=\u001b[39m \u001b[38;5;28mzip\u001b[39m(\u001b[38;5;241m*\u001b[39mresults)\n",
      "Cell \u001b[0;32mIn [9], line 9\u001b[0m, in \u001b[0;36mprocess_dataframe_concurrently\u001b[0;34m(data)\u001b[0m\n\u001b[1;32m      7\u001b[0m \u001b[38;5;28;01mwith\u001b[39;00m tqdm(total\u001b[38;5;241m=\u001b[39m\u001b[38;5;28mlen\u001b[39m(data)) \u001b[38;5;28;01mas\u001b[39;00m pbar:\n\u001b[1;32m      8\u001b[0m     \u001b[38;5;28;01mfor\u001b[39;00m idx, row \u001b[38;5;129;01min\u001b[39;00m data\u001b[38;5;241m.\u001b[39miterrows():\n\u001b[0;32m----> 9\u001b[0m         output \u001b[38;5;241m=\u001b[39m \u001b[38;5;28;01mawait\u001b[39;00m get_mcq_answer_async(\n\u001b[1;32m     10\u001b[0m                 question\u001b[38;5;241m=\u001b[39mrow[\u001b[38;5;124m'\u001b[39m\u001b[38;5;124mQuestion\u001b[39m\u001b[38;5;124m'\u001b[39m],\n\u001b[1;32m     11\u001b[0m                 options\u001b[38;5;241m=\u001b[39mrow[\u001b[38;5;124m'\u001b[39m\u001b[38;5;124mOptions\u001b[39m\u001b[38;5;124m'\u001b[39m],\n\u001b[1;32m     12\u001b[0m                 reference\u001b[38;5;241m=\u001b[39mrow[\u001b[38;5;124m'\u001b[39m\u001b[38;5;124mCorrect_Answer_no\u001b[39m\u001b[38;5;124m'\u001b[39m],\n\u001b[1;32m     13\u001b[0m                 samples\u001b[38;5;241m=\u001b[39m\u001b[38;5;241m5\u001b[39m\n\u001b[1;32m     14\u001b[0m             )\n\u001b[1;32m     15\u001b[0m         d\u001b[38;5;241m=\u001b[39m{\n\u001b[1;32m     16\u001b[0m             \u001b[38;5;124m'\u001b[39m\u001b[38;5;124mquestion\u001b[39m\u001b[38;5;124m'\u001b[39m: row[\u001b[38;5;124m'\u001b[39m\u001b[38;5;124mQuestion\u001b[39m\u001b[38;5;124m'\u001b[39m],\n\u001b[1;32m     17\u001b[0m             \u001b[38;5;124m'\u001b[39m\u001b[38;5;124moption\u001b[39m\u001b[38;5;124m'\u001b[39m : row[\u001b[38;5;124m'\u001b[39m\u001b[38;5;124mOptions\u001b[39m\u001b[38;5;124m'\u001b[39m],\n\u001b[0;32m   (...)\u001b[0m\n\u001b[1;32m     21\u001b[0m             \u001b[38;5;124m'\u001b[39m\u001b[38;5;124mcorrect_answer_rate\u001b[39m\u001b[38;5;124m'\u001b[39m : output[\u001b[38;5;241m2\u001b[39m]\n\u001b[1;32m     22\u001b[0m         }\n\u001b[1;32m     23\u001b[0m         \u001b[38;5;28;01mwith\u001b[39;00m \u001b[38;5;28mopen\u001b[39m(\u001b[38;5;124mf\u001b[39m\u001b[38;5;124m'\u001b[39m\u001b[38;5;124meval_out\u001b[39m\u001b[38;5;132;01m{\u001b[39;00midx\u001b[38;5;132;01m}\u001b[39;00m\u001b[38;5;124m.json\u001b[39m\u001b[38;5;124m'\u001b[39m,\u001b[38;5;124m'\u001b[39m\u001b[38;5;124mw\u001b[39m\u001b[38;5;124m'\u001b[39m) \u001b[38;5;28;01mas\u001b[39;00m f:\n",
      "Cell \u001b[0;32mIn [8], line 82\u001b[0m, in \u001b[0;36mget_mcq_answer_async\u001b[0;34m(question, options, reference, samples)\u001b[0m\n\u001b[1;32m     80\u001b[0m \u001b[38;5;28;01mwhile\u001b[39;00m \u001b[38;5;129;01mnot\u001b[39;00m answers:\n\u001b[1;32m     81\u001b[0m     \u001b[38;5;28;01mfor\u001b[39;00m _ \u001b[38;5;129;01min\u001b[39;00m \u001b[38;5;28mrange\u001b[39m(samples):\n\u001b[0;32m---> 82\u001b[0m         output \u001b[38;5;241m=\u001b[39m \u001b[38;5;28;01mawait\u001b[39;00m async_query(system_instruction, user_query)\n\u001b[1;32m     83\u001b[0m         output \u001b[38;5;241m=\u001b[39m output[\u001b[38;5;124m'\u001b[39m\u001b[38;5;124mcontent\u001b[39m\u001b[38;5;124m'\u001b[39m]\n\u001b[1;32m     85\u001b[0m         outputs\u001b[38;5;241m.\u001b[39mappend(output)\n",
      "Cell \u001b[0;32mIn [8], line 16\u001b[0m, in \u001b[0;36masync_query\u001b[0;34m(system_instruction, user_query)\u001b[0m\n\u001b[1;32m     13\u001b[0m data \u001b[38;5;241m=\u001b[39m json\u001b[38;5;241m.\u001b[39mdumps(json_body)\n\u001b[1;32m     15\u001b[0m \u001b[38;5;28;01masync\u001b[39;00m \u001b[38;5;28;01mwith\u001b[39;00m aiohttp\u001b[38;5;241m.\u001b[39mClientSession() \u001b[38;5;28;01mas\u001b[39;00m session:\n\u001b[0;32m---> 16\u001b[0m     \u001b[38;5;28;01masync\u001b[39;00m \u001b[38;5;28;01mwith\u001b[39;00m session\u001b[38;5;241m.\u001b[39mpost(API_URL, data\u001b[38;5;241m=\u001b[39mdata) \u001b[38;5;28;01mas\u001b[39;00m response:\n\u001b[1;32m     17\u001b[0m         \u001b[38;5;28;01mtry\u001b[39;00m:\n\u001b[1;32m     18\u001b[0m             \u001b[38;5;28;01mreturn\u001b[39;00m \u001b[38;5;28;01mawait\u001b[39;00m response\u001b[38;5;241m.\u001b[39mjson()\n",
      "File \u001b[0;32m~/Library/Python/3.8/lib/python/site-packages/aiohttp/client.py:1187\u001b[0m, in \u001b[0;36m_BaseRequestContextManager.__aenter__\u001b[0;34m(self)\u001b[0m\n\u001b[1;32m   1186\u001b[0m \u001b[39masync\u001b[39;00m \u001b[39mdef\u001b[39;00m \u001b[39m__aenter__\u001b[39m(\u001b[39mself\u001b[39m) \u001b[39m-\u001b[39m\u001b[39m>\u001b[39m _RetType:\n\u001b[0;32m-> 1187\u001b[0m     \u001b[39mself\u001b[39m\u001b[39m.\u001b[39m_resp \u001b[39m=\u001b[39m \u001b[39mawait\u001b[39;00m \u001b[39mself\u001b[39m\u001b[39m.\u001b[39m_coro\n\u001b[1;32m   1188\u001b[0m     \u001b[39mreturn\u001b[39;00m \u001b[39mself\u001b[39m\u001b[39m.\u001b[39m_resp\n",
      "File \u001b[0;32m~/Library/Python/3.8/lib/python/site-packages/aiohttp/client.py:601\u001b[0m, in \u001b[0;36mClientSession._request\u001b[0;34m(self, method, str_or_url, params, data, json, cookies, headers, skip_auto_headers, auth, allow_redirects, max_redirects, compress, chunked, expect100, raise_for_status, read_until_eof, proxy, proxy_auth, timeout, verify_ssl, fingerprint, ssl_context, ssl, server_hostname, proxy_headers, trace_request_ctx, read_bufsize, auto_decompress, max_line_size, max_field_size)\u001b[0m\n\u001b[1;32m    599\u001b[0m resp \u001b[39m=\u001b[39m \u001b[39mawait\u001b[39;00m req\u001b[39m.\u001b[39msend(conn)\n\u001b[1;32m    600\u001b[0m \u001b[39mtry\u001b[39;00m:\n\u001b[0;32m--> 601\u001b[0m     \u001b[39mawait\u001b[39;00m resp\u001b[39m.\u001b[39mstart(conn)\n\u001b[1;32m    602\u001b[0m \u001b[39mexcept\u001b[39;00m \u001b[39mBaseException\u001b[39;00m:\n\u001b[1;32m    603\u001b[0m     resp\u001b[39m.\u001b[39mclose()\n",
      "File \u001b[0;32m~/Library/Python/3.8/lib/python/site-packages/aiohttp/client_reqrep.py:980\u001b[0m, in \u001b[0;36mClientResponse.start\u001b[0;34m(self, connection)\u001b[0m\n\u001b[1;32m    978\u001b[0m         \u001b[39mif\u001b[39;00m \u001b[39mself\u001b[39m\u001b[39m.\u001b[39m_continue \u001b[39mis\u001b[39;00m \u001b[39mnot\u001b[39;00m \u001b[39mNone\u001b[39;00m:\n\u001b[1;32m    979\u001b[0m             set_result(\u001b[39mself\u001b[39m\u001b[39m.\u001b[39m_continue, \u001b[39mTrue\u001b[39;00m)\n\u001b[0;32m--> 980\u001b[0m             \u001b[39mself\u001b[39m\u001b[39m.\u001b[39m_continue \u001b[39m=\u001b[39m \u001b[39mNone\u001b[39;00m\n\u001b[1;32m    982\u001b[0m \u001b[39m# payload eof handler\u001b[39;00m\n\u001b[1;32m    983\u001b[0m payload\u001b[39m.\u001b[39mon_eof(\u001b[39mself\u001b[39m\u001b[39m.\u001b[39m_response_eof)\n",
      "File \u001b[0;32m~/Library/Python/3.8/lib/python/site-packages/aiohttp/helpers.py:735\u001b[0m, in \u001b[0;36mTimerContext.__exit__\u001b[0;34m(self, exc_type, exc_val, exc_tb)\u001b[0m\n\u001b[1;32m    732\u001b[0m     \u001b[39mself\u001b[39m\u001b[39m.\u001b[39m_tasks\u001b[39m.\u001b[39mpop()\n\u001b[1;32m    734\u001b[0m \u001b[39mif\u001b[39;00m exc_type \u001b[39mis\u001b[39;00m asyncio\u001b[39m.\u001b[39mCancelledError \u001b[39mand\u001b[39;00m \u001b[39mself\u001b[39m\u001b[39m.\u001b[39m_cancelled:\n\u001b[0;32m--> 735\u001b[0m     \u001b[39mraise\u001b[39;00m asyncio\u001b[39m.\u001b[39mTimeoutError \u001b[39mfrom\u001b[39;00m \u001b[39mNone\u001b[39m\n\u001b[1;32m    736\u001b[0m \u001b[39mreturn\u001b[39;00m \u001b[39mNone\u001b[39;00m\n",
      "\u001b[0;31mTimeoutError\u001b[0m: "
     ]
    }
   ],
   "source": [
    "import asyncio\n",
    "from tqdm import tqdm\n",
    "\n",
    "# Function to run the processing concurrently with a progress bar\n",
    "async def process_dataframe_concurrently(data):\n",
    "    results = []\n",
    "    with tqdm(total=len(data)) as pbar:\n",
    "        for idx, row in data.iterrows():\n",
    "            output = await get_mcq_answer_async(\n",
    "                    question=row['Question'],\n",
    "                    options=row['Options'],\n",
    "                    reference=row['Correct_Answer_no'],\n",
    "                    samples=5\n",
    "                )\n",
    "            d={\n",
    "                'question': row['Question'],\n",
    "                'option' : row['Options'],\n",
    "                'reference' : row['Correct_Answer_no'],\n",
    "                'answer': output[0],\n",
    "                'correct_format_rate' : output[1], \n",
    "                'correct_answer_rate' : output[2]\n",
    "            }\n",
    "            with open(f'eval_out{idx}.json','w') as f:\n",
    "                json.dump(d, f)\n",
    "\n",
    "            \n",
    "            results.append(output\n",
    "            )\n",
    "\n",
    "            pbar.update(1)\n",
    "\n",
    "# Ensure the event loop is run in an asyncio context\n",
    "async def main():\n",
    "    results = await process_dataframe_concurrently(data)\n",
    "\n",
    "    # Extract results into separate lists\n",
    "    prediction, correct_format_rate, correct_answer_rate = zip(*results)\n",
    "    data['prediction'] = prediction\n",
    "    data['correct_format_rate'] = correct_format_rate\n",
    "    data['correct_answer_rate'] = correct_answer_rate\n",
    "\n",
    "    return data\n",
    "\n",
    "# Create a new event loop and run the main function\n",
    "loop = asyncio.new_event_loop()\n",
    "asyncio.set_event_loop(loop)\n",
    "data = await main()"
   ]
  },
  {
   "cell_type": "code",
   "execution_count": null,
   "metadata": {},
   "outputs": [
    {
     "data": {
      "text/html": [
       "<div>\n",
       "<style scoped>\n",
       "    .dataframe tbody tr th:only-of-type {\n",
       "        vertical-align: middle;\n",
       "    }\n",
       "\n",
       "    .dataframe tbody tr th {\n",
       "        vertical-align: top;\n",
       "    }\n",
       "\n",
       "    .dataframe thead th {\n",
       "        text-align: right;\n",
       "    }\n",
       "</style>\n",
       "<table border=\"1\" class=\"dataframe\">\n",
       "  <thead>\n",
       "    <tr style=\"text-align: right;\">\n",
       "      <th></th>\n",
       "      <th>Question</th>\n",
       "      <th>Options</th>\n",
       "      <th>Correct Answer</th>\n",
       "    </tr>\n",
       "  </thead>\n",
       "  <tbody>\n",
       "    <tr>\n",
       "      <th>0</th>\n",
       "      <td>How many times was Ross legally divorced?  \\n</td>\n",
       "      <td>[Twice, Three times, Five times, Six times]</td>\n",
       "      <td>Three times</td>\n",
       "    </tr>\n",
       "    <tr>\n",
       "      <th>1</th>\n",
       "      <td>Where did Carol first meet Susan?  \\n</td>\n",
       "      <td>[In college, At work, At the gym, At Central P...</td>\n",
       "      <td>At the gym</td>\n",
       "    </tr>\n",
       "    <tr>\n",
       "      <th>2</th>\n",
       "      <td>How did Susan and Ross come up with Ben’s name?</td>\n",
       "      <td>[It was the doctor's name  \\n, They both had u...</td>\n",
       "      <td>It was on the janitor's name tag</td>\n",
       "    </tr>\n",
       "    <tr>\n",
       "      <th>3</th>\n",
       "      <td>What were Ben's first words?  \\n</td>\n",
       "      <td>[Hi, Bye, Mom, Dumb]</td>\n",
       "      <td>Hi</td>\n",
       "    </tr>\n",
       "    <tr>\n",
       "      <th>4</th>\n",
       "      <td>How long did Ross and Emily date before they g...</td>\n",
       "      <td>[14 days, 6 weeks  \\n, A year  \\n, 3 months]</td>\n",
       "      <td>6 weeks  \\n</td>\n",
       "    </tr>\n",
       "    <tr>\n",
       "      <th>...</th>\n",
       "      <td>...</td>\n",
       "      <td>...</td>\n",
       "      <td>...</td>\n",
       "    </tr>\n",
       "    <tr>\n",
       "      <th>692</th>\n",
       "      <td>Who is Monica?</td>\n",
       "      <td>[Ross's Sister, Rachel's Sister, Emily's Siste...</td>\n",
       "      <td>Ross's Sister</td>\n",
       "    </tr>\n",
       "    <tr>\n",
       "      <th>693</th>\n",
       "      <td>Who says it usually, \"I Know!\"</td>\n",
       "      <td>[Rachel, Chandler, Monica, Joey]</td>\n",
       "      <td>Monica</td>\n",
       "    </tr>\n",
       "    <tr>\n",
       "      <th>694</th>\n",
       "      <td>Monica Kisses Joey</td>\n",
       "      <td>[True, False]</td>\n",
       "      <td>False</td>\n",
       "    </tr>\n",
       "    <tr>\n",
       "      <th>695</th>\n",
       "      <td>Who did Phoebe marry?</td>\n",
       "      <td>[David, Ross, Mike, Joey]</td>\n",
       "      <td>Mike</td>\n",
       "    </tr>\n",
       "    <tr>\n",
       "      <th>696</th>\n",
       "      <td>What was the name of the TV show joey worked for?</td>\n",
       "      <td>[Friends, Days Of Our Lives, How I Met Your Mo...</td>\n",
       "      <td>Days Of Our Lives</td>\n",
       "    </tr>\n",
       "  </tbody>\n",
       "</table>\n",
       "<p>697 rows × 3 columns</p>\n",
       "</div>"
      ],
      "text/plain": [
       "                                              Question  \\\n",
       "0        How many times was Ross legally divorced?  \\n   \n",
       "1                Where did Carol first meet Susan?  \\n   \n",
       "2      How did Susan and Ross come up with Ben’s name?   \n",
       "3                     What were Ben's first words?  \\n   \n",
       "4    How long did Ross and Emily date before they g...   \n",
       "..                                                 ...   \n",
       "692                                     Who is Monica?   \n",
       "693                     Who says it usually, \"I Know!\"   \n",
       "694                                 Monica Kisses Joey   \n",
       "695                              Who did Phoebe marry?   \n",
       "696  What was the name of the TV show joey worked for?   \n",
       "\n",
       "                                               Options  \\\n",
       "0          [Twice, Three times, Five times, Six times]   \n",
       "1    [In college, At work, At the gym, At Central P...   \n",
       "2    [It was the doctor's name  \\n, They both had u...   \n",
       "3                                 [Hi, Bye, Mom, Dumb]   \n",
       "4         [14 days, 6 weeks  \\n, A year  \\n, 3 months]   \n",
       "..                                                 ...   \n",
       "692  [Ross's Sister, Rachel's Sister, Emily's Siste...   \n",
       "693                   [Rachel, Chandler, Monica, Joey]   \n",
       "694                                      [True, False]   \n",
       "695                          [David, Ross, Mike, Joey]   \n",
       "696  [Friends, Days Of Our Lives, How I Met Your Mo...   \n",
       "\n",
       "                       Correct Answer  \n",
       "0                         Three times  \n",
       "1                          At the gym  \n",
       "2    It was on the janitor's name tag  \n",
       "3                                  Hi  \n",
       "4                         6 weeks  \\n  \n",
       "..                                ...  \n",
       "692                     Ross's Sister  \n",
       "693                            Monica  \n",
       "694                             False  \n",
       "695                              Mike  \n",
       "696                 Days Of Our Lives  \n",
       "\n",
       "[697 rows x 3 columns]"
      ]
     },
     "execution_count": 39,
     "metadata": {},
     "output_type": "execute_result"
    }
   ],
   "source": [
    "data.to_csv('friends_mcq_w_answers_evaluation.csv',index=None)"
   ]
  },
  {
   "cell_type": "code",
   "execution_count": 96,
   "metadata": {},
   "outputs": [
    {
     "data": {
      "application/vnd.jupyter.widget-view+json": {
       "model_id": "2ddf4a3f2f53486992a3877ea2edb9dd",
       "version_major": 2,
       "version_minor": 0
      },
      "text/plain": [
       "Pandas Apply:   0%|          | 0/695 [00:00<?, ?it/s]"
      ]
     },
     "metadata": {},
     "output_type": "display_data"
    }
   ],
   "source": []
  },
  {
   "cell_type": "code",
   "execution_count": 97,
   "metadata": {},
   "outputs": [
    {
     "data": {
      "text/plain": [
       "4    694\n",
       "1      1\n",
       "Name: number_of_options, dtype: int64"
      ]
     },
     "execution_count": 97,
     "metadata": {},
     "output_type": "execute_result"
    }
   ],
   "source": [
    "data['number_of_options'].value_counts()"
   ]
  },
  {
   "cell_type": "code",
   "execution_count": 99,
   "metadata": {},
   "outputs": [],
   "source": []
  },
  {
   "cell_type": "code",
   "execution_count": null,
   "metadata": {},
   "outputs": [],
   "source": []
  }
 ],
 "metadata": {
  "kernelspec": {
   "display_name": "Python 3.8.9 64-bit",
   "language": "python",
   "name": "python3"
  },
  "language_info": {
   "codemirror_mode": {
    "name": "ipython",
    "version": 3
   },
   "file_extension": ".py",
   "mimetype": "text/x-python",
   "name": "python",
   "nbconvert_exporter": "python",
   "pygments_lexer": "ipython3",
   "version": "3.8.9"
  },
  "vscode": {
   "interpreter": {
    "hash": "31f2aee4e71d21fbe5cf8b01ff0e069b9275f58929596ceb00d14d90e3e16cd6"
   }
  }
 },
 "nbformat": 4,
 "nbformat_minor": 2
}
