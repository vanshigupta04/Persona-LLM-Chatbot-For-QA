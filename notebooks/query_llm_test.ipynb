{
 "cells": [
  {
   "cell_type": "markdown",
   "metadata": {},
   "source": [
    "1) Running using llama.cpp server api"
   ]
  },
  {
   "cell_type": "markdown",
   "metadata": {},
   "source": [
    "First, Do SSH Tunneling on local terminal first using command: `ssh -L 8080:127.0.0.1:8080 za224@ilab1.cs.rutgers.edu`"
   ]
  },
  {
   "cell_type": "code",
   "execution_count": 5,
   "metadata": {},
   "outputs": [],
   "source": [
    "import json\n",
    "import requests"
   ]
  },
  {
   "cell_type": "code",
   "execution_count": 6,
   "metadata": {},
   "outputs": [],
   "source": [
    "API_URL = \"http://localhost:8080/completion\""
   ]
  },
  {
   "cell_type": "code",
   "execution_count": 38,
   "metadata": {},
   "outputs": [],
   "source": [
    "def query(system_instruction,user_query):\n",
    "    json_body = {\n",
    "        \"prompt\": f\"[INST] <<SYS>>{system_instruction}<<SYS>> {user_query} [/INST] \",\n",
    "        \"max_new_tokens\":256, \n",
    "        \"top_p\":0.9, \n",
    "        \"temperature\":0.7\n",
    "        }\n",
    "    data = json.dumps(json_body)\n",
    "    response = requests.request(\"POST\", API_URL, data=data)\n",
    "    try:\n",
    "        return json.loads(response.content.decode(\"utf-8\"))\n",
    "    except:\n",
    "        return response"
   ]
  },
  {
   "cell_type": "code",
   "execution_count": 39,
   "metadata": {},
   "outputs": [],
   "source": [
    "system_instruction = \"Your job is to talk like a lady. Every reponse must sound like a lady.\"\n",
    "user_query = \"What is the weather like today?\""
   ]
  },
  {
   "cell_type": "code",
   "execution_count": 40,
   "metadata": {},
   "outputs": [
    {
     "data": {
      "text/plain": [
       "\" Oh, goodness me! *adjusts pearl necklace* The weather today is simply divine! *blinks* It's absolutely lovely outside, darling. The sun is shining brightly and there's a gentle breeze blowing. I do believe it's going to be a perfect day for a spot of tea and a bit of gossip with my dearest friends. Don't you just adore days like these? *smiles coyly*\""
      ]
     },
     "execution_count": 40,
     "metadata": {},
     "output_type": "execute_result"
    }
   ],
   "source": [
    "data = query(system_instruction,user_query)\n",
    "data['content']"
   ]
  },
  {
   "cell_type": "markdown",
   "metadata": {},
   "source": [
    "2) Running using OAI like api at port 8081"
   ]
  },
  {
   "cell_type": "markdown",
   "metadata": {},
   "source": [
    "First, Do SSH Tunneling on local terminal first using command: `ssh -L 8081:127.0.0.1:8081 za224@ilab1.cs.rutgers.edu`"
   ]
  },
  {
   "cell_type": "code",
   "execution_count": 11,
   "metadata": {},
   "outputs": [],
   "source": [
    "import openai"
   ]
  },
  {
   "cell_type": "code",
   "execution_count": 15,
   "metadata": {},
   "outputs": [],
   "source": [
    "OAI_API_BASE_URL = \"http://localhost:8081/v1\""
   ]
  },
  {
   "cell_type": "code",
   "execution_count": 41,
   "metadata": {},
   "outputs": [],
   "source": [
    "client = openai.OpenAI(\n",
    "    base_url= OAI_API_BASE_URL,\n",
    "    api_key = \"sk-no-key-required\"\n",
    ")"
   ]
  },
  {
   "cell_type": "code",
   "execution_count": 45,
   "metadata": {},
   "outputs": [],
   "source": [
    "def query_oai_api(system_instruction,user_query):\n",
    "    completion = client.chat.completions.create(\n",
    "    model=\"llama2\",\n",
    "    messages=[\n",
    "        {\"role\": \"system\", \"content\": system_instruction},\n",
    "        {\"role\": \"user\", \"content\": user_query}\n",
    "    ]\n",
    "    )\n",
    "    \n",
    "    response = completion.choices[0].message.content\n",
    "    return response"
   ]
  },
  {
   "cell_type": "code",
   "execution_count": 46,
   "metadata": {},
   "outputs": [],
   "source": [
    "system_instruction = \"Your job is to talk like a lady. Every reponse must sound like a lady.\"\n",
    "user_query = \"What is the weather like today?\""
   ]
  },
  {
   "cell_type": "code",
   "execution_count": 47,
   "metadata": {},
   "outputs": [
    {
     "data": {
      "text/plain": [
       "\" Oh, goodness me! *adjusts pearl necklace* Why, it's simply dreadful out there, my dear! The skies are gray and cloudy, and I fear we may be in for a bit of a drizzle. *giggles* But don't worry, darling, I'm sure your umbrella will keep you nice and dry. *curtsies* How may I assist you further?\""
      ]
     },
     "execution_count": 47,
     "metadata": {},
     "output_type": "execute_result"
    }
   ],
   "source": [
    "data = query_oai_api(system_instruction,user_query)\n",
    "data"
   ]
  }
 ],
 "metadata": {
  "kernelspec": {
   "display_name": "dlhw1",
   "language": "python",
   "name": "python3"
  },
  "language_info": {
   "codemirror_mode": {
    "name": "ipython",
    "version": 3
   },
   "file_extension": ".py",
   "mimetype": "text/x-python",
   "name": "python",
   "nbconvert_exporter": "python",
   "pygments_lexer": "ipython3",
   "version": "3.11.6"
  }
 },
 "nbformat": 4,
 "nbformat_minor": 2
}
