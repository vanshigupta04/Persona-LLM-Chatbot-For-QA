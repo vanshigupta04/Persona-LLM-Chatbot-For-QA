{
 "cells": [
  {
   "cell_type": "code",
   "execution_count": 6,
   "metadata": {},
   "outputs": [],
   "source": [
    "\n",
    "import json\n",
    "import re\n",
    "import asyncio\n",
    "import nest_asyncio\n",
    "import pandas as pd\n",
    "from langchain import PromptTemplate\n",
    "from langchain.chains.summarize import load_summarize_chain\n",
    "from langchain.docstore.document import Document\n",
    "nest_asyncio.apply()\n",
    "import sys\n",
    "sys.path.append('../')\n",
    "from utils.llm import CustomLLM\n"
   ]
  },
  {
   "cell_type": "markdown",
   "metadata": {},
   "source": [
    "# 1. Data Processing"
   ]
  },
  {
   "cell_type": "code",
   "execution_count": 7,
   "metadata": {},
   "outputs": [],
   "source": [
    "#Function to read lines from a file\n",
    "def read_file(file_name):\n",
    "    with open(file_name, 'r') as file:\n",
    "        return file.read().splitlines()"
   ]
  },
  {
   "cell_type": "code",
   "execution_count": 8,
   "metadata": {},
   "outputs": [],
   "source": [
    "all_data = read_file('data/friends_dataset.jsonl')"
   ]
  },
  {
   "cell_type": "code",
   "execution_count": 9,
   "metadata": {},
   "outputs": [
    {
     "name": "stdout",
     "output_type": "stream",
     "text": [
      "67373\n"
     ]
    }
   ],
   "source": [
    "print(len(all_data))"
   ]
  },
  {
   "cell_type": "code",
   "execution_count": 10,
   "metadata": {},
   "outputs": [],
   "source": [
    "#Intermediary dataframe to store the json elements\n",
    "df_inter = pd.DataFrame(all_data)\n",
    "df_inter.columns = ['json_element']"
   ]
  },
  {
   "cell_type": "code",
   "execution_count": 11,
   "metadata": {},
   "outputs": [],
   "source": [
    "data_df = pd.json_normalize(df_inter['json_element'].apply(json.loads))"
   ]
  },
  {
   "cell_type": "code",
   "execution_count": 12,
   "metadata": {},
   "outputs": [
    {
     "data": {
      "text/html": [
       "<div>\n",
       "<style scoped>\n",
       "    .dataframe tbody tr th:only-of-type {\n",
       "        vertical-align: middle;\n",
       "    }\n",
       "\n",
       "    .dataframe tbody tr th {\n",
       "        vertical-align: top;\n",
       "    }\n",
       "\n",
       "    .dataframe thead th {\n",
       "        text-align: right;\n",
       "    }\n",
       "</style>\n",
       "<table border=\"1\" class=\"dataframe\">\n",
       "  <thead>\n",
       "    <tr style=\"text-align: right;\">\n",
       "      <th></th>\n",
       "      <th>conversation_id</th>\n",
       "      <th>season</th>\n",
       "      <th>episode</th>\n",
       "      <th>scene</th>\n",
       "      <th>utterance_id</th>\n",
       "      <th>text</th>\n",
       "      <th>speaker</th>\n",
       "    </tr>\n",
       "  </thead>\n",
       "  <tbody>\n",
       "    <tr>\n",
       "      <th>0</th>\n",
       "      <td>s01_e01_c01_u001</td>\n",
       "      <td>s01</td>\n",
       "      <td>e01</td>\n",
       "      <td>c01</td>\n",
       "      <td>s01_e01_c01_u001</td>\n",
       "      <td>There's nothing to tell! He's just some guy I ...</td>\n",
       "      <td>Monica Geller</td>\n",
       "    </tr>\n",
       "    <tr>\n",
       "      <th>1</th>\n",
       "      <td>s01_e01_c01_u001</td>\n",
       "      <td>s01</td>\n",
       "      <td>e01</td>\n",
       "      <td>c01</td>\n",
       "      <td>s01_e01_c01_u002</td>\n",
       "      <td>C'mon, you're going out with the guy! There's ...</td>\n",
       "      <td>Joey Tribbiani</td>\n",
       "    </tr>\n",
       "    <tr>\n",
       "      <th>2</th>\n",
       "      <td>s01_e01_c01_u001</td>\n",
       "      <td>s01</td>\n",
       "      <td>e01</td>\n",
       "      <td>c01</td>\n",
       "      <td>s01_e01_c01_u003</td>\n",
       "      <td>All right Joey, be nice. So does he have a hum...</td>\n",
       "      <td>Chandler Bing</td>\n",
       "    </tr>\n",
       "    <tr>\n",
       "      <th>3</th>\n",
       "      <td>s01_e01_c01_u001</td>\n",
       "      <td>s01</td>\n",
       "      <td>e01</td>\n",
       "      <td>c01</td>\n",
       "      <td>s01_e01_c01_u004</td>\n",
       "      <td>Wait, does he eat chalk?</td>\n",
       "      <td>Phoebe Buffay</td>\n",
       "    </tr>\n",
       "    <tr>\n",
       "      <th>4</th>\n",
       "      <td>s01_e01_c01_u001</td>\n",
       "      <td>s01</td>\n",
       "      <td>e01</td>\n",
       "      <td>c01</td>\n",
       "      <td>s01_e01_c01_u005</td>\n",
       "      <td></td>\n",
       "      <td>TRANSCRIPT_NOTE</td>\n",
       "    </tr>\n",
       "  </tbody>\n",
       "</table>\n",
       "</div>"
      ],
      "text/plain": [
       "    conversation_id season episode scene      utterance_id  \\\n",
       "0  s01_e01_c01_u001    s01     e01   c01  s01_e01_c01_u001   \n",
       "1  s01_e01_c01_u001    s01     e01   c01  s01_e01_c01_u002   \n",
       "2  s01_e01_c01_u001    s01     e01   c01  s01_e01_c01_u003   \n",
       "3  s01_e01_c01_u001    s01     e01   c01  s01_e01_c01_u004   \n",
       "4  s01_e01_c01_u001    s01     e01   c01  s01_e01_c01_u005   \n",
       "\n",
       "                                                text          speaker  \n",
       "0  There's nothing to tell! He's just some guy I ...    Monica Geller  \n",
       "1  C'mon, you're going out with the guy! There's ...   Joey Tribbiani  \n",
       "2  All right Joey, be nice. So does he have a hum...    Chandler Bing  \n",
       "3                           Wait, does he eat chalk?    Phoebe Buffay  \n",
       "4                                                     TRANSCRIPT_NOTE  "
      ]
     },
     "execution_count": 12,
     "metadata": {},
     "output_type": "execute_result"
    }
   ],
   "source": [
    "data_df.head()"
   ]
  },
  {
   "cell_type": "code",
   "execution_count": 13,
   "metadata": {},
   "outputs": [
    {
     "data": {
      "text/html": [
       "<div>\n",
       "<style scoped>\n",
       "    .dataframe tbody tr th:only-of-type {\n",
       "        vertical-align: middle;\n",
       "    }\n",
       "\n",
       "    .dataframe tbody tr th {\n",
       "        vertical-align: top;\n",
       "    }\n",
       "\n",
       "    .dataframe thead th {\n",
       "        text-align: right;\n",
       "    }\n",
       "</style>\n",
       "<table border=\"1\" class=\"dataframe\">\n",
       "  <thead>\n",
       "    <tr style=\"text-align: right;\">\n",
       "      <th></th>\n",
       "      <th>conversation_id</th>\n",
       "      <th>season</th>\n",
       "      <th>episode</th>\n",
       "      <th>scene</th>\n",
       "      <th>utterance_id</th>\n",
       "      <th>text</th>\n",
       "      <th>speaker</th>\n",
       "    </tr>\n",
       "  </thead>\n",
       "  <tbody>\n",
       "    <tr>\n",
       "      <th>0</th>\n",
       "      <td>s01_e01_c01_u001</td>\n",
       "      <td>s01</td>\n",
       "      <td>e01</td>\n",
       "      <td>c01</td>\n",
       "      <td>s01_e01_c01_u001</td>\n",
       "      <td>There's nothing to tell! He's just some guy I ...</td>\n",
       "      <td>Monica Geller</td>\n",
       "    </tr>\n",
       "    <tr>\n",
       "      <th>1</th>\n",
       "      <td>s01_e01_c01_u001</td>\n",
       "      <td>s01</td>\n",
       "      <td>e01</td>\n",
       "      <td>c01</td>\n",
       "      <td>s01_e01_c01_u002</td>\n",
       "      <td>C'mon, you're going out with the guy! There's ...</td>\n",
       "      <td>Joey Tribbiani</td>\n",
       "    </tr>\n",
       "    <tr>\n",
       "      <th>2</th>\n",
       "      <td>s01_e01_c01_u001</td>\n",
       "      <td>s01</td>\n",
       "      <td>e01</td>\n",
       "      <td>c01</td>\n",
       "      <td>s01_e01_c01_u003</td>\n",
       "      <td>All right Joey, be nice. So does he have a hum...</td>\n",
       "      <td>Chandler Bing</td>\n",
       "    </tr>\n",
       "    <tr>\n",
       "      <th>3</th>\n",
       "      <td>s01_e01_c01_u001</td>\n",
       "      <td>s01</td>\n",
       "      <td>e01</td>\n",
       "      <td>c01</td>\n",
       "      <td>s01_e01_c01_u004</td>\n",
       "      <td>Wait, does he eat chalk?</td>\n",
       "      <td>Phoebe Buffay</td>\n",
       "    </tr>\n",
       "    <tr>\n",
       "      <th>5</th>\n",
       "      <td>s01_e01_c01_u001</td>\n",
       "      <td>s01</td>\n",
       "      <td>e01</td>\n",
       "      <td>c01</td>\n",
       "      <td>s01_e01_c01_u006</td>\n",
       "      <td>Just, 'cause, I don't want her to go through w...</td>\n",
       "      <td>Phoebe Buffay</td>\n",
       "    </tr>\n",
       "  </tbody>\n",
       "</table>\n",
       "</div>"
      ],
      "text/plain": [
       "    conversation_id season episode scene      utterance_id  \\\n",
       "0  s01_e01_c01_u001    s01     e01   c01  s01_e01_c01_u001   \n",
       "1  s01_e01_c01_u001    s01     e01   c01  s01_e01_c01_u002   \n",
       "2  s01_e01_c01_u001    s01     e01   c01  s01_e01_c01_u003   \n",
       "3  s01_e01_c01_u001    s01     e01   c01  s01_e01_c01_u004   \n",
       "5  s01_e01_c01_u001    s01     e01   c01  s01_e01_c01_u006   \n",
       "\n",
       "                                                text         speaker  \n",
       "0  There's nothing to tell! He's just some guy I ...   Monica Geller  \n",
       "1  C'mon, you're going out with the guy! There's ...  Joey Tribbiani  \n",
       "2  All right Joey, be nice. So does he have a hum...   Chandler Bing  \n",
       "3                           Wait, does he eat chalk?   Phoebe Buffay  \n",
       "5  Just, 'cause, I don't want her to go through w...   Phoebe Buffay  "
      ]
     },
     "execution_count": 13,
     "metadata": {},
     "output_type": "execute_result"
    }
   ],
   "source": [
    "#Drop rows that are not dialogues\n",
    "data_df['text'] = data_df['text'].str.strip()\n",
    "data_df = data_df[data_df['text'].str.len() > 0]\n",
    "data_df.head()"
   ]
  },
  {
   "cell_type": "code",
   "execution_count": 14,
   "metadata": {},
   "outputs": [
    {
     "data": {
      "text/html": [
       "<div>\n",
       "<style scoped>\n",
       "    .dataframe tbody tr th:only-of-type {\n",
       "        vertical-align: middle;\n",
       "    }\n",
       "\n",
       "    .dataframe tbody tr th {\n",
       "        vertical-align: top;\n",
       "    }\n",
       "\n",
       "    .dataframe thead th {\n",
       "        text-align: right;\n",
       "    }\n",
       "</style>\n",
       "<table border=\"1\" class=\"dataframe\">\n",
       "  <thead>\n",
       "    <tr style=\"text-align: right;\">\n",
       "      <th></th>\n",
       "      <th>conversation_id</th>\n",
       "      <th>season</th>\n",
       "      <th>episode</th>\n",
       "      <th>scene</th>\n",
       "      <th>utterance_id</th>\n",
       "      <th>script</th>\n",
       "    </tr>\n",
       "  </thead>\n",
       "  <tbody>\n",
       "    <tr>\n",
       "      <th>0</th>\n",
       "      <td>s01_e01_c01_u001</td>\n",
       "      <td>s01</td>\n",
       "      <td>e01</td>\n",
       "      <td>c01</td>\n",
       "      <td>s01_e01_c01_u001</td>\n",
       "      <td>Monica Geller: There's nothing to tell! He's j...</td>\n",
       "    </tr>\n",
       "    <tr>\n",
       "      <th>1</th>\n",
       "      <td>s01_e01_c01_u001</td>\n",
       "      <td>s01</td>\n",
       "      <td>e01</td>\n",
       "      <td>c01</td>\n",
       "      <td>s01_e01_c01_u002</td>\n",
       "      <td>Joey Tribbiani: C'mon, you're going out with t...</td>\n",
       "    </tr>\n",
       "    <tr>\n",
       "      <th>2</th>\n",
       "      <td>s01_e01_c01_u001</td>\n",
       "      <td>s01</td>\n",
       "      <td>e01</td>\n",
       "      <td>c01</td>\n",
       "      <td>s01_e01_c01_u003</td>\n",
       "      <td>Chandler Bing: All right Joey, be nice. So doe...</td>\n",
       "    </tr>\n",
       "    <tr>\n",
       "      <th>3</th>\n",
       "      <td>s01_e01_c01_u001</td>\n",
       "      <td>s01</td>\n",
       "      <td>e01</td>\n",
       "      <td>c01</td>\n",
       "      <td>s01_e01_c01_u004</td>\n",
       "      <td>Phoebe Buffay: Wait, does he eat chalk?</td>\n",
       "    </tr>\n",
       "    <tr>\n",
       "      <th>5</th>\n",
       "      <td>s01_e01_c01_u001</td>\n",
       "      <td>s01</td>\n",
       "      <td>e01</td>\n",
       "      <td>c01</td>\n",
       "      <td>s01_e01_c01_u006</td>\n",
       "      <td>Phoebe Buffay: Just, 'cause, I don't want her ...</td>\n",
       "    </tr>\n",
       "  </tbody>\n",
       "</table>\n",
       "</div>"
      ],
      "text/plain": [
       "    conversation_id season episode scene      utterance_id  \\\n",
       "0  s01_e01_c01_u001    s01     e01   c01  s01_e01_c01_u001   \n",
       "1  s01_e01_c01_u001    s01     e01   c01  s01_e01_c01_u002   \n",
       "2  s01_e01_c01_u001    s01     e01   c01  s01_e01_c01_u003   \n",
       "3  s01_e01_c01_u001    s01     e01   c01  s01_e01_c01_u004   \n",
       "5  s01_e01_c01_u001    s01     e01   c01  s01_e01_c01_u006   \n",
       "\n",
       "                                              script  \n",
       "0  Monica Geller: There's nothing to tell! He's j...  \n",
       "1  Joey Tribbiani: C'mon, you're going out with t...  \n",
       "2  Chandler Bing: All right Joey, be nice. So doe...  \n",
       "3            Phoebe Buffay: Wait, does he eat chalk?  \n",
       "5  Phoebe Buffay: Just, 'cause, I don't want her ...  "
      ]
     },
     "execution_count": 14,
     "metadata": {},
     "output_type": "execute_result"
    }
   ],
   "source": [
    "#Grouping speaker with their respective dialogues\n",
    "data_df['script'] = data_df['speaker'] + ': ' + data_df['text']\n",
    "#Drop speaker and text columns\n",
    "data_df.drop(columns=['speaker', 'text'], inplace=True)\n",
    "data_df.head()"
   ]
  },
  {
   "cell_type": "code",
   "execution_count": 15,
   "metadata": {},
   "outputs": [
    {
     "data": {
      "text/html": [
       "<div>\n",
       "<style scoped>\n",
       "    .dataframe tbody tr th:only-of-type {\n",
       "        vertical-align: middle;\n",
       "    }\n",
       "\n",
       "    .dataframe tbody tr th {\n",
       "        vertical-align: top;\n",
       "    }\n",
       "\n",
       "    .dataframe thead th {\n",
       "        text-align: right;\n",
       "    }\n",
       "</style>\n",
       "<table border=\"1\" class=\"dataframe\">\n",
       "  <thead>\n",
       "    <tr style=\"text-align: right;\">\n",
       "      <th></th>\n",
       "      <th>conversation_id</th>\n",
       "      <th>season</th>\n",
       "      <th>episode</th>\n",
       "      <th>scene</th>\n",
       "      <th>script</th>\n",
       "    </tr>\n",
       "  </thead>\n",
       "  <tbody>\n",
       "    <tr>\n",
       "      <th>0</th>\n",
       "      <td>s01_e01_c01_u001</td>\n",
       "      <td>s01</td>\n",
       "      <td>e01</td>\n",
       "      <td>c01</td>\n",
       "      <td>[Monica Geller: There's nothing to tell! He's ...</td>\n",
       "    </tr>\n",
       "    <tr>\n",
       "      <th>1</th>\n",
       "      <td>s01_e01_c02_u001</td>\n",
       "      <td>s01</td>\n",
       "      <td>e01</td>\n",
       "      <td>c02</td>\n",
       "      <td>[Monica Geller: Now I'm guessing that he bough...</td>\n",
       "    </tr>\n",
       "    <tr>\n",
       "      <th>2</th>\n",
       "      <td>s01_e01_c03_u001</td>\n",
       "      <td>s01</td>\n",
       "      <td>e01</td>\n",
       "      <td>c03</td>\n",
       "      <td>[Phoebe Buffay: Love is sweet as summer shower...</td>\n",
       "    </tr>\n",
       "    <tr>\n",
       "      <th>3</th>\n",
       "      <td>s01_e01_c04_u001</td>\n",
       "      <td>s01</td>\n",
       "      <td>e01</td>\n",
       "      <td>c04</td>\n",
       "      <td>[Ross Geller: I'm supposed to attach a bracket...</td>\n",
       "    </tr>\n",
       "    <tr>\n",
       "      <th>4</th>\n",
       "      <td>s01_e01_c05_u001</td>\n",
       "      <td>s01</td>\n",
       "      <td>e01</td>\n",
       "      <td>c05</td>\n",
       "      <td>[Monica Geller: Oh my God!, Paul the Wine Guy:...</td>\n",
       "    </tr>\n",
       "  </tbody>\n",
       "</table>\n",
       "</div>"
      ],
      "text/plain": [
       "    conversation_id season episode scene  \\\n",
       "0  s01_e01_c01_u001    s01     e01   c01   \n",
       "1  s01_e01_c02_u001    s01     e01   c02   \n",
       "2  s01_e01_c03_u001    s01     e01   c03   \n",
       "3  s01_e01_c04_u001    s01     e01   c04   \n",
       "4  s01_e01_c05_u001    s01     e01   c05   \n",
       "\n",
       "                                              script  \n",
       "0  [Monica Geller: There's nothing to tell! He's ...  \n",
       "1  [Monica Geller: Now I'm guessing that he bough...  \n",
       "2  [Phoebe Buffay: Love is sweet as summer shower...  \n",
       "3  [Ross Geller: I'm supposed to attach a bracket...  \n",
       "4  [Monica Geller: Oh my God!, Paul the Wine Guy:...  "
      ]
     },
     "execution_count": 15,
     "metadata": {},
     "output_type": "execute_result"
    }
   ],
   "source": [
    "#Grouping script by conversation_id, season,episode, and scene as list of strings\n",
    "data_df = data_df.groupby(['conversation_id', 'season', 'episode', 'scene'])['script'].apply(list).reset_index()\n",
    "data_df.head()"
   ]
  },
  {
   "cell_type": "markdown",
   "metadata": {},
   "source": [
    "# 2. Data Analysis"
   ]
  },
  {
   "cell_type": "code",
   "execution_count": 16,
   "metadata": {},
   "outputs": [
    {
     "data": {
      "text/html": [
       "<div>\n",
       "<style scoped>\n",
       "    .dataframe tbody tr th:only-of-type {\n",
       "        vertical-align: middle;\n",
       "    }\n",
       "\n",
       "    .dataframe tbody tr th {\n",
       "        vertical-align: top;\n",
       "    }\n",
       "\n",
       "    .dataframe thead th {\n",
       "        text-align: right;\n",
       "    }\n",
       "</style>\n",
       "<table border=\"1\" class=\"dataframe\">\n",
       "  <thead>\n",
       "    <tr style=\"text-align: right;\">\n",
       "      <th></th>\n",
       "      <th>conversation_id</th>\n",
       "      <th>season</th>\n",
       "      <th>episode</th>\n",
       "      <th>scene</th>\n",
       "      <th>script</th>\n",
       "    </tr>\n",
       "  </thead>\n",
       "  <tbody>\n",
       "    <tr>\n",
       "      <th>0</th>\n",
       "      <td>s01_e01_c01_u001</td>\n",
       "      <td>s01</td>\n",
       "      <td>e01</td>\n",
       "      <td>c01</td>\n",
       "      <td>[Monica Geller: There's nothing to tell! He's ...</td>\n",
       "    </tr>\n",
       "    <tr>\n",
       "      <th>1</th>\n",
       "      <td>s01_e01_c02_u001</td>\n",
       "      <td>s01</td>\n",
       "      <td>e01</td>\n",
       "      <td>c02</td>\n",
       "      <td>[Monica Geller: Now I'm guessing that he bough...</td>\n",
       "    </tr>\n",
       "    <tr>\n",
       "      <th>2</th>\n",
       "      <td>s01_e01_c03_u001</td>\n",
       "      <td>s01</td>\n",
       "      <td>e01</td>\n",
       "      <td>c03</td>\n",
       "      <td>[Phoebe Buffay: Love is sweet as summer shower...</td>\n",
       "    </tr>\n",
       "    <tr>\n",
       "      <th>3</th>\n",
       "      <td>s01_e01_c04_u001</td>\n",
       "      <td>s01</td>\n",
       "      <td>e01</td>\n",
       "      <td>c04</td>\n",
       "      <td>[Ross Geller: I'm supposed to attach a bracket...</td>\n",
       "    </tr>\n",
       "    <tr>\n",
       "      <th>4</th>\n",
       "      <td>s01_e01_c05_u001</td>\n",
       "      <td>s01</td>\n",
       "      <td>e01</td>\n",
       "      <td>c05</td>\n",
       "      <td>[Monica Geller: Oh my God!, Paul the Wine Guy:...</td>\n",
       "    </tr>\n",
       "  </tbody>\n",
       "</table>\n",
       "</div>"
      ],
      "text/plain": [
       "    conversation_id season episode scene  \\\n",
       "0  s01_e01_c01_u001    s01     e01   c01   \n",
       "1  s01_e01_c02_u001    s01     e01   c02   \n",
       "2  s01_e01_c03_u001    s01     e01   c03   \n",
       "3  s01_e01_c04_u001    s01     e01   c04   \n",
       "4  s01_e01_c05_u001    s01     e01   c05   \n",
       "\n",
       "                                              script  \n",
       "0  [Monica Geller: There's nothing to tell! He's ...  \n",
       "1  [Monica Geller: Now I'm guessing that he bough...  \n",
       "2  [Phoebe Buffay: Love is sweet as summer shower...  \n",
       "3  [Ross Geller: I'm supposed to attach a bracket...  \n",
       "4  [Monica Geller: Oh my God!, Paul the Wine Guy:...  "
      ]
     },
     "execution_count": 16,
     "metadata": {},
     "output_type": "execute_result"
    }
   ],
   "source": [
    "data_df.head()"
   ]
  },
  {
   "cell_type": "code",
   "execution_count": 17,
   "metadata": {},
   "outputs": [
    {
     "data": {
      "text/plain": [
       "count    3099.000000\n",
       "mean       19.783801\n",
       "std        16.273398\n",
       "min         1.000000\n",
       "25%        10.000000\n",
       "50%        17.000000\n",
       "75%        25.000000\n",
       "max       255.000000\n",
       "Name: script, dtype: float64"
      ]
     },
     "execution_count": 17,
     "metadata": {},
     "output_type": "execute_result"
    }
   ],
   "source": [
    "#Check how many utterances are in each conversation\n",
    "data_df['script'].apply(len).describe()"
   ]
  },
  {
   "cell_type": "code",
   "execution_count": 18,
   "metadata": {},
   "outputs": [
    {
     "data": {
      "text/plain": [
       "count    3099.000000\n",
       "mean      239.605679\n",
       "std       195.664833\n",
       "min         2.000000\n",
       "25%       123.000000\n",
       "50%       202.000000\n",
       "75%       306.000000\n",
       "max      3820.000000\n",
       "dtype: float64"
      ]
     },
     "execution_count": 18,
     "metadata": {},
     "output_type": "execute_result"
    }
   ],
   "source": [
    "#Check how many words are in each conversation\n",
    "data_df['script'].apply(lambda x: [len(i.split()) for i in x]).apply(pd.Series).sum(axis=1).describe()"
   ]
  },
  {
   "cell_type": "markdown",
   "metadata": {},
   "source": [
    "# 3. Finetuning Data Dump"
   ]
  },
  {
   "cell_type": "code",
   "execution_count": 20,
   "metadata": {},
   "outputs": [],
   "source": [
    "def dump_to_file(data,file_name='data/finetune_data.txt'):\n",
    "    with open(file_name, 'w') as file:\n",
    "        data = data+'\\n'\n",
    "        file.write(data)"
   ]
  },
  {
   "cell_type": "code",
   "execution_count": 21,
   "metadata": {},
   "outputs": [],
   "source": [
    "for conversation_list in data_df['script']:\n",
    "    conversation = ' '.join(conversation_list)\n",
    "    dump_to_file(conversation)"
   ]
  },
  {
   "cell_type": "markdown",
   "metadata": {},
   "source": [
    "# 4. Summary generation per conversation (for finetuning on summary instead of dialogues)\n"
   ]
  },
  {
   "cell_type": "markdown",
   "metadata": {},
   "source": [
    "**NOTE: Opted not to use this approach due to unsatisfactory results.**"
   ]
  },
  {
   "cell_type": "code",
   "execution_count": 24,
   "metadata": {},
   "outputs": [],
   "source": [
    "llm = CustomLLM()"
   ]
  },
  {
   "cell_type": "code",
   "execution_count": 25,
   "metadata": {},
   "outputs": [
    {
     "name": "stdout",
     "output_type": "stream",
     "text": [
      "\u001b[1mCustomLLM\u001b[0m\n",
      "Params: {'api_url': 'http://localhost:8080/completion', 'max_new_tokens': 1024, 'top_p': 0.9, 'temperature': 0, 'repetition_penalty': 1.5}\n"
     ]
    }
   ],
   "source": [
    "print(llm)"
   ]
  },
  {
   "cell_type": "code",
   "execution_count": 26,
   "metadata": {},
   "outputs": [],
   "source": [
    "async def get_conversation_summary(conversation, conversation_id):\n",
    "    #conversation = '\\n'.join(conversation)\n",
    "    #text_splitter = RecursiveCharacterTextSplitter(chunk_size=200, chunk_overlap=50)\n",
    "    \n",
    "    conversation_chunks = [''.join(conversation[i:i+10]) for i in range(0, len(conversation), 10)]\n",
    "\n",
    "    documents =  []\n",
    "\n",
    "    for item in range(len(conversation_chunks)):\n",
    "        page = Document(page_content=conversation_chunks[item],metadata = {'conversation_id': conversation_id})\n",
    "        documents.append(page)\n",
    "\n",
    "\n",
    "    map_prompt_template = \"\"\"\n",
    "    [INST]\n",
    "    <<SYS>>You are expert in English Professor. You are objective, factual and you avoid any bias or interpretation.<</SYS>>\n",
    "    Reword the given conversation in not more than five sentences, covering all the points.\n",
    "    CONVERSATION:```{text}```\n",
    "    [/INST]\n",
    "    Sure, here is reworded conversation:\\n\n",
    "    \"\"\"\n",
    "\n",
    "    combine_prompt_template = \"\"\"\n",
    "    [INST]\n",
    "    <<SYS>>You are an expert English Professor. You are objective, factual and you avoid any bias or interpretation.<</SYS>>\n",
    "    Reword this conversation in less than 1000 words, covering all the most important points.\n",
    "    CONVERSATION:```{text}```\n",
    "    [/INST]\n",
    "    Sure, here is reworded conversation:\\n\n",
    "    \"\"\"\n",
    "\n",
    "    map_prompt = PromptTemplate(template=map_prompt_template, input_variables=[\"text\"])\n",
    "\n",
    "\n",
    "    combine_prompt = PromptTemplate(\n",
    "        template=combine_prompt_template, input_variables=[\"text\"]\n",
    "    )\n",
    "\n",
    "    map_reduce_chain = load_summarize_chain(\n",
    "    llm,\n",
    "    chain_type=\"map_reduce\",\n",
    "    map_prompt=map_prompt,\n",
    "    combine_prompt=combine_prompt\n",
    "    )\n",
    "\n",
    "    output = await map_reduce_chain.arun(documents)\n",
    "    return output"
   ]
  },
  {
   "cell_type": "code",
   "execution_count": 27,
   "metadata": {},
   "outputs": [],
   "source": [
    "async def process_all_conversations(all_conversations,all_conversations_ids):\n",
    "    counter = 0\n",
    "    for conversation,conversation_id in zip(all_conversations,all_conversations_ids):\n",
    "        counter += 1\n",
    "        summary_task = get_conversation_summary(conversation,conversation_id)\n",
    "        tasks = [summary_task]\n",
    "        results = await asyncio.gather(*tasks)\n",
    "\n",
    "        for result in results:\n",
    "            result = result.replace('\\n', \"\")\n",
    "            result = re.sub(' +', ' ', result)\n",
    "            result = result.strip()\n",
    "            json_data = {'conversation_id': conversation_id, 'summary': result}\n",
    "            print(json_data)\n",
    "            dump_to_file(json.dumps(json_data),file_name='data/summary_data.jsonl')\n",
    "        \n",
    "        if counter == 3:\n",
    "           break"
   ]
  },
  {
   "cell_type": "code",
   "execution_count": 29,
   "metadata": {},
   "outputs": [
    {
     "name": "stdout",
     "output_type": "stream",
     "text": [
      "{'conversation_id': 's01_e01_c01_u001', 'summary': \"Monica Geller and Joey Tribbiani were discussing her recent date with a coworker, while Chandler Bing joked about the man having a hump or hairpiece. Phoebe Buffay asked if he ate chalk, and shared her own experience with an ex-boyfriend named Carl who had a similar habit. Monica clarified that it was not a date and they were just going out to dinner as friends. Chandler added that it sounded like a date to him, and the group discussed their experiences with awkward dreams. Joey Tribbiani expressed his inability to recall a dream he had, which Chandler confirmed. Then, unexpectedly, the phone rang, causing everyone to look at him. Monica found it strange that they were all staring at him beforehand. Chandler joked about having a hump or hairpiece like the man Monica was dating. Ross Geller expressed his desire to be married again and Chandler wished for a million dollars. Monica greeted Rachel Green, another Lincoln High School alumnus, and introduced her to the group. When Rachel revealed that she had left the wedding due to realizing she was more attracted to a gravy boat than the groom, the group was surprised. Ross inquired about Rachel's whereabouts, and Monica joked that they could wait for four wet bridesmaids before inquiring about her reason for leaving. Monica expressed surprise that some individuals were not invited to the wedding. Rachel revealed her hope that this issue would not be a problem.\"}\n",
      "{'conversation_id': 's01_e01_c02_u001', 'summary': 'The conversation revolved around Rachel Green\\'s reluctance to marry her boyfriend, with Monica Geller speculating that her father bought the big pipe organ for her. Chandler Bing asked what to make for lunch, and Ross Geller replied he would have whatever Christine was having. Rachel expressed her frustration, stating that she does not love him, and Phoebe Buffay joked about letting go of her hair, which could lead to her head falling off. Chandler suggested pushing Rachel down the stairs, but Joey Tribbiani disagreed. Later in the conversation, Rachel expressed her desire to stay with Monica Geller instead of returning home with her father. Monica acknowledged the decision and encouraged Rachel to think about nice, calm things to help her relax. Phoebe offered soothing suggestions such as raindrops on roses, bluebells, or letting go of her hair. Chandler asked what to make for lunch, and Ross replied he would have whatever Christine was having. Rachel expressed her reluctance to marry her boyfriend, stating that she does not love him. Phoebe joked about letting go of her hair, which could lead to her head falling off. Monica excused herself to go to the restroom, and Ross asked if she was \"ah, going wandering.\" Monica returned and sat down, and Phoebe expressed concern after pulling out four eyelashes. Joey shared a tip about rubbing someone\\'s neck in a specific spot, which Monica shut down. The conversation then turned to Ross\\' upcoming honeymoon in Aruba with Chandler and Joey. Rachel declined their invitation to join them, stating that it has been a long day. Phoebe expressed her desire to help but declined due to personal reasons.'}\n",
      "{'conversation_id': 's01_e01_c03_u001', 'summary': \"Phoebe Buffay expressed her thoughts on love, describing it as a sweet and beautiful experience like summer showers. However, she also compared it to an unpleasant image of a giant pigeon defecating on one's heart. Despite this, she expressed gratitude before exclaiming in a melodic tone. Overall, Phoebe's view of love is complex and open to interpretation.In this conversation, Phoebe Buffay shares her thoughts on love. She begins by describing it as sweet and beautiful like summer showers. However, she quickly follows this up with an unpleasant image of a giant pigeon defecating on one's heart. Despite the mixed imagery, she expresses gratitude before exclaiming in a melodic tone. Overall, Phoebe's view of love is complex and open to interpretation.In this conversation, Phoebe Buffay provides a nuanced perspective on love. She first describes it as a sweet and beautiful experience, reminiscent of summer showers. However, she then offers an unpleasant image of a giant pigeon defecating on one's heart, which challenges the idea of love being purely positive. Despite this complexity, Phoebe expresses gratitude before exclaiming in a melodic tone, suggesting that there is still beauty and joy to be found in love. Overall, Phoebe's view of love is open to interpretation and highlights the complexities of this emotion.\"}\n"
     ]
    }
   ],
   "source": [
    "all_conversations = data_df['script'].tolist()\n",
    "all_conversations_ids = data_df['conversation_id'].tolist()\n",
    "asyncio.run(process_all_conversations(all_conversations,all_conversations_ids))"
   ]
  }
 ],
 "metadata": {
  "kernelspec": {
   "display_name": "Python 3 (ipykernel)",
   "language": "python",
   "name": "python3"
  },
  "language_info": {
   "codemirror_mode": {
    "name": "ipython",
    "version": 3
   },
   "file_extension": ".py",
   "mimetype": "text/x-python",
   "name": "python",
   "nbconvert_exporter": "python",
   "pygments_lexer": "ipython3",
   "version": "3.10.12"
  }
 },
 "nbformat": 4,
 "nbformat_minor": 4
}
