{
 "cells": [
  {
   "cell_type": "code",
   "execution_count": 4,
   "metadata": {},
   "outputs": [],
   "source": [
    "# !pip3 install convokit"
   ]
  },
  {
   "cell_type": "code",
   "execution_count": 1,
   "metadata": {},
   "outputs": [],
   "source": [
    "import pandas as pd\n",
    "from convokit import Corpus, download"
   ]
  },
  {
   "cell_type": "code",
   "execution_count": 5,
   "metadata": {},
   "outputs": [
    {
     "name": "stdout",
     "output_type": "stream",
     "text": [
      "Dataset already exists at /Users/zoey/.convokit/downloads/friends-corpus\n"
     ]
    }
   ],
   "source": [
    "# corpus_object = Corpus(filename=download(\"friends-corpus\"))"
   ]
  },
  {
   "cell_type": "code",
   "execution_count": 6,
   "metadata": {},
   "outputs": [
    {
     "name": "stdout",
     "output_type": "stream",
     "text": [
      "Number of Speakers: 700\n",
      "Number of Utterances: 67373\n",
      "Number of Conversations: 3107\n"
     ]
    }
   ],
   "source": [
    "# corpus_object.print_summary_stats()"
   ]
  },
  {
   "cell_type": "code",
   "execution_count": 2,
   "metadata": {},
   "outputs": [],
   "source": [
    "def get_data():\n",
    "    corpus_object = Corpus(filename=download(\"friends-corpus\"))\n",
    "    convo_ids = []\n",
    "    utt_ids = []\n",
    "    texts = []\n",
    "    speakers = []\n",
    "    reply_to = []\n",
    "    episode_titles = []\n",
    "    reply_to_names = []\n",
    "    \n",
    "    # Iterate through conversations and utterances in the corpus\n",
    "    for convo_id in corpus_object.get_conversation_ids():\n",
    "        conversation = corpus_object.get_conversation(convo_id)\n",
    "        # episode_title = conversation.meta['title'] if 'title' in conversation.meta else None\n",
    "        # episode_titles.extend([episode_title] * len(conversation.get_utterance_ids()))\n",
    "        \n",
    "        for utt_id in conversation.get_utterance_ids():\n",
    "            utterance = corpus_object.get_utterance(utt_id)\n",
    "            \n",
    "            # Append data to lists\n",
    "            convo_ids.append(convo_id)\n",
    "            utt_ids.append(utt_id)\n",
    "            texts.append(utterance.text)\n",
    "            speakers.append(utterance.speaker.id if utterance.speaker else None)\n",
    "            reply_to.append(utterance.reply_to)\n",
    "            reply_to_name = corpus_object.get_utterance(utterance.reply_to) if utterance.reply_to else None\n",
    "            reply_to_names.append(reply_to_name)\n",
    "        \n",
    "        \n",
    "\n",
    "    # Create a DataFrame\n",
    "    data = {'speaker': speakers, 'text': texts}\n",
    "    # data = {'conversation_id': convo_ids, 'utterance_id': utt_ids, 'text': texts, 'speaker': speakers, 'reply_to': reply_to}#,'episode_title': episode_titles, 'reply_to_name': reply_to_names}\n",
    "    df = pd.DataFrame(data)\n",
    "    df=df.loc[df['speaker']!='TRANSCRIPT_NOTE']\n",
    "    df['text_new']=df['speaker']+' : '+df['text']\n",
    "\n",
    "    with open('data/friends_dataset.txt', 'w') as file:\n",
    "        file.write(\" \".join(df['text_new'].to_list()))"
   ]
  },
  {
   "cell_type": "code",
   "execution_count": 3,
   "metadata": {},
   "outputs": [
    {
     "name": "stdout",
     "output_type": "stream",
     "text": [
      "Dataset already exists at /Users/zoey/.convokit/downloads/friends-corpus\n"
     ]
    }
   ],
   "source": [
    "get_data()"
   ]
  },
  {
   "cell_type": "code",
   "execution_count": 18,
   "metadata": {},
   "outputs": [],
   "source": [
    "# for convo_id in corpus.get_conversation_ids():\n",
    "#     conversation = corpus.get_conversation(convo_id)\n",
    "#     print(f\"Conversation ID: {convo_id}\")\n",
    "#     print(f\"Utterances: {len(conversation.get_utterance_ids())}\")"
   ]
  },
  {
   "cell_type": "code",
   "execution_count": 19,
   "metadata": {},
   "outputs": [],
   "source": [
    "# for convo_id in corpus.get_conversation_ids():\n",
    "#     conversation = corpus.get_conversation(convo_id)\n",
    "#     for utt_id in conversation.get_utterance_ids():\n",
    "#         utterance = corpus.get_utterance(utt_id)\n",
    "#         print(f\"Utterance ID: {utt_id}\")\n",
    "#         print(f\"Text: {utterance.text}\")"
   ]
  },
  {
   "cell_type": "code",
   "execution_count": null,
   "metadata": {},
   "outputs": [],
   "source": []
  }
 ],
 "metadata": {
  "kernelspec": {
   "display_name": "Python 3.8.9 64-bit",
   "language": "python",
   "name": "python3"
  },
  "language_info": {
   "codemirror_mode": {
    "name": "ipython",
    "version": 3
   },
   "file_extension": ".py",
   "mimetype": "text/x-python",
   "name": "python",
   "nbconvert_exporter": "python",
   "pygments_lexer": "ipython3",
   "version": "3.8.9"
  },
  "orig_nbformat": 4,
  "vscode": {
   "interpreter": {
    "hash": "31f2aee4e71d21fbe5cf8b01ff0e069b9275f58929596ceb00d14d90e3e16cd6"
   }
  }
 },
 "nbformat": 4,
 "nbformat_minor": 2
}
