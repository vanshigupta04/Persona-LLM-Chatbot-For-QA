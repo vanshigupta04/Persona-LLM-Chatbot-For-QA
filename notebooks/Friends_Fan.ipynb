{
 "cells": [
  {
   "cell_type": "code",
   "execution_count": 9,
   "metadata": {},
   "outputs": [
    {
     "name": "stdout",
     "output_type": "stream",
     "text": [
      "Requirement already satisfied: convokit in /Users/falgunmalhotra/opt/anaconda3/envs/dlhw1/lib/python3.11/site-packages (3.0.0)\n",
      "Requirement already satisfied: matplotlib>=3.0.0 in /Users/falgunmalhotra/opt/anaconda3/envs/dlhw1/lib/python3.11/site-packages (from convokit) (3.8.0)\n",
      "Requirement already satisfied: pandas>=0.23.4 in /Users/falgunmalhotra/opt/anaconda3/envs/dlhw1/lib/python3.11/site-packages (from convokit) (2.1.1)\n",
      "Requirement already satisfied: msgpack-numpy>=0.4.3.2 in /Users/falgunmalhotra/opt/anaconda3/envs/dlhw1/lib/python3.11/site-packages (from convokit) (0.4.8)\n",
      "Requirement already satisfied: spacy>=2.3.5 in /Users/falgunmalhotra/opt/anaconda3/envs/dlhw1/lib/python3.11/site-packages (from convokit) (3.7.2)\n",
      "Requirement already satisfied: scipy>=1.1.0 in /Users/falgunmalhotra/opt/anaconda3/envs/dlhw1/lib/python3.11/site-packages (from convokit) (1.11.3)\n",
      "Requirement already satisfied: scikit-learn>=0.20.0 in /Users/falgunmalhotra/opt/anaconda3/envs/dlhw1/lib/python3.11/site-packages (from convokit) (1.3.1)\n",
      "Requirement already satisfied: nltk>=3.4 in /Users/falgunmalhotra/opt/anaconda3/envs/dlhw1/lib/python3.11/site-packages (from convokit) (3.8.1)\n",
      "Requirement already satisfied: dill>=0.2.9 in /Users/falgunmalhotra/opt/anaconda3/envs/dlhw1/lib/python3.11/site-packages (from convokit) (0.3.7)\n",
      "Requirement already satisfied: joblib>=0.13.2 in /Users/falgunmalhotra/opt/anaconda3/envs/dlhw1/lib/python3.11/site-packages (from convokit) (1.3.2)\n",
      "Requirement already satisfied: clean-text>=0.6.0 in /Users/falgunmalhotra/opt/anaconda3/envs/dlhw1/lib/python3.11/site-packages (from convokit) (0.6.0)\n",
      "Requirement already satisfied: unidecode>=1.1.1 in /Users/falgunmalhotra/opt/anaconda3/envs/dlhw1/lib/python3.11/site-packages (from convokit) (1.3.7)\n",
      "Requirement already satisfied: tqdm>=4.64.0 in /Users/falgunmalhotra/opt/anaconda3/envs/dlhw1/lib/python3.11/site-packages (from convokit) (4.66.1)\n",
      "Requirement already satisfied: pymongo>=4.0 in /Users/falgunmalhotra/opt/anaconda3/envs/dlhw1/lib/python3.11/site-packages (from convokit) (4.6.1)\n",
      "Requirement already satisfied: pyyaml>=5.4.1 in /Users/falgunmalhotra/opt/anaconda3/envs/dlhw1/lib/python3.11/site-packages (from convokit) (6.0.1)\n",
      "Requirement already satisfied: dnspython>=1.16.0 in /Users/falgunmalhotra/opt/anaconda3/envs/dlhw1/lib/python3.11/site-packages (from convokit) (2.4.2)\n",
      "Requirement already satisfied: emoji<2.0.0,>=1.0.0 in /Users/falgunmalhotra/opt/anaconda3/envs/dlhw1/lib/python3.11/site-packages (from clean-text>=0.6.0->convokit) (1.7.0)\n",
      "Requirement already satisfied: ftfy<7.0,>=6.0 in /Users/falgunmalhotra/opt/anaconda3/envs/dlhw1/lib/python3.11/site-packages (from clean-text>=0.6.0->convokit) (6.1.3)\n",
      "Requirement already satisfied: contourpy>=1.0.1 in /Users/falgunmalhotra/opt/anaconda3/envs/dlhw1/lib/python3.11/site-packages (from matplotlib>=3.0.0->convokit) (1.1.1)\n",
      "Requirement already satisfied: cycler>=0.10 in /Users/falgunmalhotra/opt/anaconda3/envs/dlhw1/lib/python3.11/site-packages (from matplotlib>=3.0.0->convokit) (0.12.0)\n",
      "Requirement already satisfied: fonttools>=4.22.0 in /Users/falgunmalhotra/opt/anaconda3/envs/dlhw1/lib/python3.11/site-packages (from matplotlib>=3.0.0->convokit) (4.43.0)\n",
      "Requirement already satisfied: kiwisolver>=1.0.1 in /Users/falgunmalhotra/opt/anaconda3/envs/dlhw1/lib/python3.11/site-packages (from matplotlib>=3.0.0->convokit) (1.4.5)\n",
      "Requirement already satisfied: numpy<2,>=1.21 in /Users/falgunmalhotra/opt/anaconda3/envs/dlhw1/lib/python3.11/site-packages (from matplotlib>=3.0.0->convokit) (1.26.0)\n",
      "Requirement already satisfied: packaging>=20.0 in /Users/falgunmalhotra/opt/anaconda3/envs/dlhw1/lib/python3.11/site-packages (from matplotlib>=3.0.0->convokit) (23.2)\n",
      "Requirement already satisfied: pillow>=6.2.0 in /Users/falgunmalhotra/opt/anaconda3/envs/dlhw1/lib/python3.11/site-packages (from matplotlib>=3.0.0->convokit) (10.0.1)\n",
      "Requirement already satisfied: pyparsing>=2.3.1 in /Users/falgunmalhotra/opt/anaconda3/envs/dlhw1/lib/python3.11/site-packages (from matplotlib>=3.0.0->convokit) (3.1.1)\n",
      "Requirement already satisfied: python-dateutil>=2.7 in /Users/falgunmalhotra/opt/anaconda3/envs/dlhw1/lib/python3.11/site-packages (from matplotlib>=3.0.0->convokit) (2.8.2)\n",
      "Requirement already satisfied: msgpack>=0.5.2 in /Users/falgunmalhotra/opt/anaconda3/envs/dlhw1/lib/python3.11/site-packages (from msgpack-numpy>=0.4.3.2->convokit) (1.0.7)\n",
      "Requirement already satisfied: click in /Users/falgunmalhotra/opt/anaconda3/envs/dlhw1/lib/python3.11/site-packages (from nltk>=3.4->convokit) (8.1.7)\n",
      "Requirement already satisfied: regex>=2021.8.3 in /Users/falgunmalhotra/opt/anaconda3/envs/dlhw1/lib/python3.11/site-packages (from nltk>=3.4->convokit) (2023.10.3)\n",
      "Requirement already satisfied: pytz>=2020.1 in /Users/falgunmalhotra/opt/anaconda3/envs/dlhw1/lib/python3.11/site-packages (from pandas>=0.23.4->convokit) (2023.3.post1)\n",
      "Requirement already satisfied: tzdata>=2022.1 in /Users/falgunmalhotra/opt/anaconda3/envs/dlhw1/lib/python3.11/site-packages (from pandas>=0.23.4->convokit) (2023.3)\n",
      "Requirement already satisfied: threadpoolctl>=2.0.0 in /Users/falgunmalhotra/opt/anaconda3/envs/dlhw1/lib/python3.11/site-packages (from scikit-learn>=0.20.0->convokit) (3.2.0)\n",
      "Requirement already satisfied: spacy-legacy<3.1.0,>=3.0.11 in /Users/falgunmalhotra/opt/anaconda3/envs/dlhw1/lib/python3.11/site-packages (from spacy>=2.3.5->convokit) (3.0.12)\n",
      "Requirement already satisfied: spacy-loggers<2.0.0,>=1.0.0 in /Users/falgunmalhotra/opt/anaconda3/envs/dlhw1/lib/python3.11/site-packages (from spacy>=2.3.5->convokit) (1.0.5)\n",
      "Requirement already satisfied: murmurhash<1.1.0,>=0.28.0 in /Users/falgunmalhotra/opt/anaconda3/envs/dlhw1/lib/python3.11/site-packages (from spacy>=2.3.5->convokit) (1.0.10)\n",
      "Requirement already satisfied: cymem<2.1.0,>=2.0.2 in /Users/falgunmalhotra/opt/anaconda3/envs/dlhw1/lib/python3.11/site-packages (from spacy>=2.3.5->convokit) (2.0.8)\n",
      "Requirement already satisfied: preshed<3.1.0,>=3.0.2 in /Users/falgunmalhotra/opt/anaconda3/envs/dlhw1/lib/python3.11/site-packages (from spacy>=2.3.5->convokit) (3.0.9)\n",
      "Requirement already satisfied: thinc<8.3.0,>=8.1.8 in /Users/falgunmalhotra/opt/anaconda3/envs/dlhw1/lib/python3.11/site-packages (from spacy>=2.3.5->convokit) (8.2.1)\n",
      "Requirement already satisfied: wasabi<1.2.0,>=0.9.1 in /Users/falgunmalhotra/opt/anaconda3/envs/dlhw1/lib/python3.11/site-packages (from spacy>=2.3.5->convokit) (1.1.2)\n",
      "Requirement already satisfied: srsly<3.0.0,>=2.4.3 in /Users/falgunmalhotra/opt/anaconda3/envs/dlhw1/lib/python3.11/site-packages (from spacy>=2.3.5->convokit) (2.4.8)\n",
      "Requirement already satisfied: catalogue<2.1.0,>=2.0.6 in /Users/falgunmalhotra/opt/anaconda3/envs/dlhw1/lib/python3.11/site-packages (from spacy>=2.3.5->convokit) (2.0.10)\n",
      "Requirement already satisfied: weasel<0.4.0,>=0.1.0 in /Users/falgunmalhotra/opt/anaconda3/envs/dlhw1/lib/python3.11/site-packages (from spacy>=2.3.5->convokit) (0.3.4)\n",
      "Requirement already satisfied: typer<0.10.0,>=0.3.0 in /Users/falgunmalhotra/opt/anaconda3/envs/dlhw1/lib/python3.11/site-packages (from spacy>=2.3.5->convokit) (0.9.0)\n",
      "Requirement already satisfied: smart-open<7.0.0,>=5.2.1 in /Users/falgunmalhotra/opt/anaconda3/envs/dlhw1/lib/python3.11/site-packages (from spacy>=2.3.5->convokit) (6.4.0)\n",
      "Requirement already satisfied: requests<3.0.0,>=2.13.0 in /Users/falgunmalhotra/opt/anaconda3/envs/dlhw1/lib/python3.11/site-packages (from spacy>=2.3.5->convokit) (2.31.0)\n",
      "Requirement already satisfied: pydantic!=1.8,!=1.8.1,<3.0.0,>=1.7.4 in /Users/falgunmalhotra/opt/anaconda3/envs/dlhw1/lib/python3.11/site-packages (from spacy>=2.3.5->convokit) (2.5.2)\n",
      "Requirement already satisfied: jinja2 in /Users/falgunmalhotra/opt/anaconda3/envs/dlhw1/lib/python3.11/site-packages (from spacy>=2.3.5->convokit) (3.1.2)\n",
      "Requirement already satisfied: setuptools in /Users/falgunmalhotra/opt/anaconda3/envs/dlhw1/lib/python3.11/site-packages (from spacy>=2.3.5->convokit) (68.2.2)\n",
      "Requirement already satisfied: langcodes<4.0.0,>=3.2.0 in /Users/falgunmalhotra/opt/anaconda3/envs/dlhw1/lib/python3.11/site-packages (from spacy>=2.3.5->convokit) (3.3.0)\n",
      "Requirement already satisfied: wcwidth<0.3.0,>=0.2.12 in /Users/falgunmalhotra/opt/anaconda3/envs/dlhw1/lib/python3.11/site-packages (from ftfy<7.0,>=6.0->clean-text>=0.6.0->convokit) (0.2.12)\n",
      "Requirement already satisfied: annotated-types>=0.4.0 in /Users/falgunmalhotra/opt/anaconda3/envs/dlhw1/lib/python3.11/site-packages (from pydantic!=1.8,!=1.8.1,<3.0.0,>=1.7.4->spacy>=2.3.5->convokit) (0.6.0)\n",
      "Requirement already satisfied: pydantic-core==2.14.5 in /Users/falgunmalhotra/opt/anaconda3/envs/dlhw1/lib/python3.11/site-packages (from pydantic!=1.8,!=1.8.1,<3.0.0,>=1.7.4->spacy>=2.3.5->convokit) (2.14.5)\n",
      "Requirement already satisfied: typing-extensions>=4.6.1 in /Users/falgunmalhotra/opt/anaconda3/envs/dlhw1/lib/python3.11/site-packages (from pydantic!=1.8,!=1.8.1,<3.0.0,>=1.7.4->spacy>=2.3.5->convokit) (4.8.0)\n",
      "Requirement already satisfied: six>=1.5 in /Users/falgunmalhotra/opt/anaconda3/envs/dlhw1/lib/python3.11/site-packages (from python-dateutil>=2.7->matplotlib>=3.0.0->convokit) (1.16.0)\n",
      "Requirement already satisfied: charset-normalizer<4,>=2 in /Users/falgunmalhotra/opt/anaconda3/envs/dlhw1/lib/python3.11/site-packages (from requests<3.0.0,>=2.13.0->spacy>=2.3.5->convokit) (3.3.0)\n",
      "Requirement already satisfied: idna<4,>=2.5 in /Users/falgunmalhotra/opt/anaconda3/envs/dlhw1/lib/python3.11/site-packages (from requests<3.0.0,>=2.13.0->spacy>=2.3.5->convokit) (3.4)\n",
      "Requirement already satisfied: urllib3<3,>=1.21.1 in /Users/falgunmalhotra/opt/anaconda3/envs/dlhw1/lib/python3.11/site-packages (from requests<3.0.0,>=2.13.0->spacy>=2.3.5->convokit) (2.0.6)\n",
      "Requirement already satisfied: certifi>=2017.4.17 in /Users/falgunmalhotra/opt/anaconda3/envs/dlhw1/lib/python3.11/site-packages (from requests<3.0.0,>=2.13.0->spacy>=2.3.5->convokit) (2023.7.22)\n",
      "Requirement already satisfied: blis<0.8.0,>=0.7.8 in /Users/falgunmalhotra/opt/anaconda3/envs/dlhw1/lib/python3.11/site-packages (from thinc<8.3.0,>=8.1.8->spacy>=2.3.5->convokit) (0.7.11)\n",
      "Requirement already satisfied: confection<1.0.0,>=0.0.1 in /Users/falgunmalhotra/opt/anaconda3/envs/dlhw1/lib/python3.11/site-packages (from thinc<8.3.0,>=8.1.8->spacy>=2.3.5->convokit) (0.1.4)\n",
      "Requirement already satisfied: cloudpathlib<0.17.0,>=0.7.0 in /Users/falgunmalhotra/opt/anaconda3/envs/dlhw1/lib/python3.11/site-packages (from weasel<0.4.0,>=0.1.0->spacy>=2.3.5->convokit) (0.16.0)\n",
      "Requirement already satisfied: MarkupSafe>=2.0 in /Users/falgunmalhotra/opt/anaconda3/envs/dlhw1/lib/python3.11/site-packages (from jinja2->spacy>=2.3.5->convokit) (2.1.3)\n"
     ]
    }
   ],
   "source": [
    "!pip3 install convokit"
   ]
  },
  {
   "cell_type": "code",
   "execution_count": 1,
   "metadata": {},
   "outputs": [],
   "source": [
    "import pandas as pd\n",
    "from convokit import Corpus, download"
   ]
  },
  {
   "cell_type": "code",
   "execution_count": 5,
   "metadata": {},
   "outputs": [
    {
     "name": "stdout",
     "output_type": "stream",
     "text": [
      "Dataset already exists at /Users/zoey/.convokit/downloads/friends-corpus\n"
     ]
    }
   ],
   "source": [
    "# corpus_object = Corpus(filename=download(\"friends-corpus\"))"
   ]
  },
  {
   "cell_type": "code",
   "execution_count": 6,
   "metadata": {},
   "outputs": [
    {
     "name": "stdout",
     "output_type": "stream",
     "text": [
      "Number of Speakers: 700\n",
      "Number of Utterances: 67373\n",
      "Number of Conversations: 3107\n"
     ]
    }
   ],
   "source": [
    "# corpus_object.print_summary_stats()"
   ]
  },
  {
   "cell_type": "code",
   "execution_count": 2,
   "metadata": {},
   "outputs": [],
   "source": [
    "def get_data():\n",
    "    corpus_object = Corpus(filename=download(\"friends-corpus\"))\n",
    "    convo_ids = []\n",
    "    utt_ids = []\n",
    "    texts = []\n",
    "    speakers = []\n",
    "    reply_to = []\n",
    "    episode_titles = []\n",
    "    reply_to_names = []\n",
    "    \n",
    "    # Iterate through conversations and utterances in the corpus\n",
    "    for convo_id in corpus_object.get_conversation_ids():\n",
    "        conversation = corpus_object.get_conversation(convo_id)\n",
    "        # episode_title = conversation.meta['title'] if 'title' in conversation.meta else None\n",
    "        # episode_titles.extend([episode_title] * len(conversation.get_utterance_ids()))\n",
    "        \n",
    "        for utt_id in conversation.get_utterance_ids():\n",
    "            utterance = corpus_object.get_utterance(utt_id)\n",
    "            \n",
    "            # Append data to lists\n",
    "            convo_ids.append(convo_id)\n",
    "            utt_ids.append(utt_id)\n",
    "            texts.append(utterance.text)\n",
    "            speakers.append(utterance.speaker.id if utterance.speaker else None)\n",
    "            reply_to.append(utterance.reply_to)\n",
    "            reply_to_name = corpus_object.get_utterance(utterance.reply_to) if utterance.reply_to else None\n",
    "            reply_to_names.append(reply_to_name)\n",
    "        \n",
    "        \n",
    "\n",
    "    # Create a DataFrame\n",
    "    data = {'speaker': speakers, 'text': texts}\n",
    "    # data = {'conversation_id': convo_ids, 'utterance_id': utt_ids, 'text': texts, 'speaker': speakers, 'reply_to': reply_to}#,'episode_title': episode_titles, 'reply_to_name': reply_to_names}\n",
    "    df = pd.DataFrame(data)\n",
    "    df=df.loc[df['speaker']!='TRANSCRIPT_NOTE']\n",
    "    df['text_new']=df['speaker']+' : '+df['text']\n",
    "\n",
    "    with open('data/friends_dataset.txt', 'w') as file:\n",
    "        file.write(\"\\n\".join(df['text_new'].to_list()))"
   ]
  },
  {
   "cell_type": "code",
   "execution_count": 4,
   "metadata": {},
   "outputs": [
    {
     "name": "stdout",
     "output_type": "stream",
     "text": [
      "Dataset already exists at /Users/falgunmalhotra/.convokit/downloads/friends-corpus\n"
     ]
    }
   ],
   "source": [
    "get_data()"
   ]
  },
  {
   "cell_type": "code",
   "execution_count": 18,
   "metadata": {},
   "outputs": [],
   "source": [
    "# for convo_id in corpus.get_conversation_ids():\n",
    "#     conversation = corpus.get_conversation(convo_id)\n",
    "#     print(f\"Conversation ID: {convo_id}\")\n",
    "#     print(f\"Utterances: {len(conversation.get_utterance_ids())}\")"
   ]
  },
  {
   "cell_type": "code",
   "execution_count": 19,
   "metadata": {},
   "outputs": [],
   "source": [
    "# for convo_id in corpus.get_conversation_ids():\n",
    "#     conversation = corpus.get_conversation(convo_id)\n",
    "#     for utt_id in conversation.get_utterance_ids():\n",
    "#         utterance = corpus.get_utterance(utt_id)\n",
    "#         print(f\"Utterance ID: {utt_id}\")\n",
    "#         print(f\"Text: {utterance.text}\")"
   ]
  },
  {
   "cell_type": "code",
   "execution_count": null,
   "metadata": {},
   "outputs": [],
   "source": []
  }
 ],
 "metadata": {
  "kernelspec": {
   "display_name": "Python 3.8.9 64-bit",
   "language": "python",
   "name": "python3"
  },
  "language_info": {
   "codemirror_mode": {
    "name": "ipython",
    "version": 3
   },
   "file_extension": ".py",
   "mimetype": "text/x-python",
   "name": "python",
   "nbconvert_exporter": "python",
   "pygments_lexer": "ipython3",
   "version": "3.11.6"
  },
  "orig_nbformat": 4,
  "vscode": {
   "interpreter": {
    "hash": "31f2aee4e71d21fbe5cf8b01ff0e069b9275f58929596ceb00d14d90e3e16cd6"
   }
  }
 },
 "nbformat": 4,
 "nbformat_minor": 2
}
