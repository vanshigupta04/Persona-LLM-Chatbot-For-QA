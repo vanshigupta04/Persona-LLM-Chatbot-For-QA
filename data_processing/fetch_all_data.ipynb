{
 "cells": [
  {
   "cell_type": "code",
   "execution_count": 1,
   "metadata": {},
   "outputs": [],
   "source": [
    "# !pip3 install convokit"
   ]
  },
  {
   "cell_type": "code",
   "execution_count": 57,
   "metadata": {},
   "outputs": [],
   "source": [
    "import pandas as pd\n",
    "from convokit import Corpus, download\n",
    "import json"
   ]
  },
  {
   "cell_type": "code",
   "execution_count": 3,
   "metadata": {},
   "outputs": [
    {
     "name": "stdout",
     "output_type": "stream",
     "text": [
      "Downloading friends-corpus to /common/home/za224/.convokit/downloads/friends-corpus\n",
      "Downloading friends-corpus from http://zissou.infosci.cornell.edu/convokit/datasets/friends-corpus/friends-corpus.zip (6.1MB)... Done\n",
      "No configuration file found at /common/home/za224/.convokit/config.yml; writing with contents: \n",
      "# Default Backend Parameters\n",
      "db_host: localhost:27017\n",
      "data_directory: ~/.convokit/saved-corpora\n",
      "default_backend: mem\n"
     ]
    }
   ],
   "source": [
    "corpus_object = Corpus(filename=download(\"friends-corpus\"))"
   ]
  },
  {
   "cell_type": "code",
   "execution_count": 4,
   "metadata": {},
   "outputs": [
    {
     "name": "stdout",
     "output_type": "stream",
     "text": [
      "Number of Speakers: 700\n",
      "Number of Utterances: 67373\n",
      "Number of Conversations: 3107\n"
     ]
    }
   ],
   "source": [
    "corpus_object.print_summary_stats()"
   ]
  },
  {
   "cell_type": "code",
   "execution_count": 72,
   "metadata": {},
   "outputs": [
    {
     "name": "stdout",
     "output_type": "stream",
     "text": [
      "ConvoKitMeta({'season': 's04', 'episode': 'e14', 'scene': 'c11'})\n"
     ]
    }
   ],
   "source": [
    "random_convo = corpus_object.random_conversation()\n",
    "print(random_convo.meta)"
   ]
  },
  {
   "cell_type": "code",
   "execution_count": 14,
   "metadata": {},
   "outputs": [
    {
     "name": "stdout",
     "output_type": "stream",
     "text": [
      "Utterance(id: 's07_e10_c09_u027', conversation_id: s07_e10_c09_u001, reply-to: s07_e10_c09_u026, speaker: Speaker(id: 'Rachel Green', vectors: [], meta: ConvoKitMeta({})), timestamp: None, text: 'Oh, I would love to!', vectors: [], meta: ConvoKitMeta({'tokens': [['Oh', ',', 'I', 'would', 'love', 'to', '!']], 'character_entities': None, 'emotion': None, 'caption': [701659, 703785, 'i would love to'], 'transcript_with_note': None, 'tokens_with_note': None}))\n"
     ]
    }
   ],
   "source": [
    "random_utt = corpus_object.random_utterance()\n",
    "print(random_utt)"
   ]
  },
  {
   "cell_type": "code",
   "execution_count": 50,
   "metadata": {},
   "outputs": [
    {
     "name": "stdout",
     "output_type": "stream",
     "text": [
      "Speaker(id: 'Hold Voice', vectors: [], meta: ConvoKitMeta({}))\n"
     ]
    }
   ],
   "source": [
    "random_speaker = corpus_object.random_speaker()\n",
    "print(random_speaker)"
   ]
  },
  {
   "cell_type": "code",
   "execution_count": 79,
   "metadata": {},
   "outputs": [],
   "source": [
    "def get_data():\n",
    "    corpus_object = Corpus(filename=download(\"friends-corpus\"))\n",
    "    \n",
    "    # Iterate through conversations and utterances in the corpus\n",
    "    for convo_id in corpus_object.get_conversation_ids():\n",
    "        conversation = corpus_object.get_conversation(convo_id)\n",
    "        # episode_title = conversation.meta['title'] if 'title' in conversation.meta else None\n",
    "        # episode_titles.extend([episode_title] * len(conversation.get_utterance_ids()))\n",
    "        convo_data = {}\n",
    "        convo_data['conversation_id'] = convo_id\n",
    "        convo_data['season'] = conversation.meta['season']\n",
    "        convo_data['episode'] = conversation.meta['episode']\n",
    "        convo_data['scene'] = conversation.meta['scene']\n",
    "        \n",
    "        for utt_id in conversation.get_utterance_ids():\n",
    "            utterance = corpus_object.get_utterance(utt_id)\n",
    "            convo_data['utterance_id'] = utt_id\n",
    "            convo_data['text'] = utterance.text\n",
    "            convo_data['speaker'] = utterance.speaker.id\n",
    "            # print(convo_data)\n",
    "            with open('data/friends_dataset.jsonl', 'a') as file:\n",
    "                file.write(json.dumps(convo_data) + '\\n')"
   ]
  },
  {
   "cell_type": "code",
   "execution_count": 80,
   "metadata": {},
   "outputs": [
    {
     "name": "stdout",
     "output_type": "stream",
     "text": [
      "Dataset already exists at /common/home/za224/.convokit/downloads/friends-corpus\n"
     ]
    }
   ],
   "source": [
    "get_data()"
   ]
  }
 ],
 "metadata": {
  "kernelspec": {
   "display_name": "Python 3.8.9 64-bit",
   "language": "python",
   "name": "python3"
  },
  "language_info": {
   "codemirror_mode": {
    "name": "ipython",
    "version": 3
   },
   "file_extension": ".py",
   "mimetype": "text/x-python",
   "name": "python",
   "nbconvert_exporter": "python",
   "pygments_lexer": "ipython3",
   "version": "3.8.9"
  },
  "orig_nbformat": 4,
  "vscode": {
   "interpreter": {
    "hash": "31f2aee4e71d21fbe5cf8b01ff0e069b9275f58929596ceb00d14d90e3e16cd6"
   }
  }
 },
 "nbformat": 4,
 "nbformat_minor": 2
}
