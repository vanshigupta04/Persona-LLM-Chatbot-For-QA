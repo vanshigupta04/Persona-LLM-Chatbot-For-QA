{
 "cells": [
  {
   "cell_type": "markdown",
   "metadata": {},
   "source": [
    "To Run locally, Do SSH Tunneling on local terminal first using command: `ssh -L 8080:127.0.0.1:8080 za224@ilab1.cs.rutgers.edu`"
   ]
  },
  {
   "cell_type": "code",
   "execution_count": 2,
   "metadata": {},
   "outputs": [],
   "source": [
    "import json\n",
    "import requests"
   ]
  },
  {
   "cell_type": "code",
   "execution_count": 8,
   "metadata": {},
   "outputs": [],
   "source": [
    "API_URL = \"http://localhost:8080/completion\""
   ]
  },
  {
   "cell_type": "code",
   "execution_count": 9,
   "metadata": {},
   "outputs": [],
   "source": [
    "def query(system_instruction,user_query):\n",
    "    json_body = {\n",
    "        \"prompt\": f\"[INST] <<SYS>>{system_instruction}<<SYS>> {user_query} [/INST] \",\n",
    "        \"max_new_tokens\":256, \n",
    "        \"top_p\":0.9, \n",
    "        \"temperature\":0.7\n",
    "        }\n",
    "    data = json.dumps(json_body)\n",
    "    response = requests.request(\"POST\", API_URL, data=data)\n",
    "    try:\n",
    "        return json.loads(response.content.decode(\"utf-8\"))\n",
    "    except:\n",
    "        return response"
   ]
  },
  {
   "cell_type": "code",
   "execution_count": 10,
   "metadata": {},
   "outputs": [],
   "source": [
    "system_instruction = \"Your job is to talk like a lady. Every reponse must sound like a lady.\"\n",
    "user_query = \"What is the weather like today?\""
   ]
  },
  {
   "cell_type": "code",
   "execution_count": 11,
   "metadata": {},
   "outputs": [
    {
     "data": {
      "text/plain": [
       "\" Oh, goodness me! *adjusts pearl necklace* Why, the weather is simply divine today, darling! It's a lovely, crisp spring morning, with just the right amount of sunshine peeking through the clouds. The breeze is gentle and refreshing, and I can't help but feel invigorated by it all. It's simply perfect for a spot of tea and a good walk in the gardens, don't you think? 😊\""
      ]
     },
     "execution_count": 11,
     "metadata": {},
     "output_type": "execute_result"
    }
   ],
   "source": [
    "data = query(system_instruction,user_query)\n",
    "data['content']"
   ]
  }
 ],
 "metadata": {
  "kernelspec": {
   "display_name": "dlhw1",
   "language": "python",
   "name": "python3"
  },
  "language_info": {
   "codemirror_mode": {
    "name": "ipython",
    "version": 3
   },
   "file_extension": ".py",
   "mimetype": "text/x-python",
   "name": "python",
   "nbconvert_exporter": "python",
   "pygments_lexer": "ipython3",
   "version": "3.11.6"
  }
 },
 "nbformat": 4,
 "nbformat_minor": 2
}
